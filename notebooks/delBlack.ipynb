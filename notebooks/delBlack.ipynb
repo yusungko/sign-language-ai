{
 "cells": [
  {
   "cell_type": "code",
   "execution_count": 1,
   "id": "cc37edfb-989b-420e-9d5e-4a18f53d5e1c",
   "metadata": {},
   "outputs": [],
   "source": [
    "import cv2\n",
    "import os\n",
    "\n",
    "def remove_black_frames(video_path, output_dir):\n",
    "    # Create output directory if it doesn't exist\n",
    "    os.makedirs(output_dir, exist_ok=True)\n",
    "    \n",
    "    cap = cv2.VideoCapture(video_path)\n",
    "    if not cap.isOpened():\n",
    "        print(f\"Error: Could not open video {video_path}.\")\n",
    "        return\n",
    "    \n",
    "    # Get video properties\n",
    "    total_frames = int(cap.get(cv2.CAP_PROP_FRAME_COUNT))\n",
    "    frame_width = int(cap.get(cv2.CAP_PROP_FRAME_WIDTH))\n",
    "    frame_height = int(cap.get(cv2.CAP_PROP_FRAME_HEIGHT))\n",
    "    fps = int(cap.get(cv2.CAP_PROP_FPS))\n",
    "    \n",
    "    # Initialize variables\n",
    "    start_frame = 0\n",
    "    end_frame = total_frames - 1\n",
    "    \n",
    "    # Check for black frames at the beginning\n",
    "    while start_frame < total_frames:\n",
    "        cap.set(cv2.CAP_PROP_POS_FRAMES, start_frame)\n",
    "        ret, frame = cap.read()\n",
    "        if not ret or not frame.mean() == 0:\n",
    "            break\n",
    "        start_frame += 1\n",
    "    \n",
    "    # Check for black frames at the end\n",
    "    while end_frame > start_frame:\n",
    "        cap.set(cv2.CAP_PROP_POS_FRAMES, end_frame)\n",
    "        ret, frame = cap.read()\n",
    "        if not ret or not frame.mean() == 0:\n",
    "            break\n",
    "        end_frame -= 1\n",
    "    \n",
    "    # Read and write non-black frames to a new video\n",
    "    out = cv2.VideoWriter(os.path.join(output_dir, f\"{os.path.basename(video_path)}\"), cv2.VideoWriter_fourcc(*'mp4v'), fps, (frame_width, frame_height))\n",
    "    for i in range(start_frame, end_frame + 1):\n",
    "        cap.set(cv2.CAP_PROP_POS_FRAMES, i)\n",
    "        ret, frame = cap.read()\n",
    "        if ret:\n",
    "            out.write(frame)\n",
    "    \n",
    "    # Release resources\n",
    "    cap.release()\n",
    "    out.release()\n",
    "\n",
    "# Process multiple videos\n",
    "input_dir = r'C:\\Users\\ACER\\Desktop\\videos'\n",
    "output_dir = r'C:\\Users\\ACER\\Desktop\\videoss'\n",
    "for filename in os.listdir(input_dir):\n",
    "    if filename.endswith('.mp4'):\n",
    "        video_path = os.path.join(input_dir, filename)\n",
    "        remove_black_frames(video_path, output_dir)"
   ]
  },
  {
   "cell_type": "code",
   "execution_count": 10,
   "id": "9b5181fa-ac18-4d51-a65d-7da9ee9a7859",
   "metadata": {},
   "outputs": [
    {
     "name": "stdout",
     "output_type": "stream",
     "text": [
      "Counter({4: 1970, 3: 1634, 7: 1369, 5: 1341, 6: 1192, 8: 1172, 9: 750, 2: 728, 10: 725, 11: 363, 12: 216, 13: 214, 14: 122, 15: 80, 1: 48, 17: 20, 16: 16, 18: 16, 23: 16, 19: 8})\n",
      "Mode of video length groups (each group contains 10 frames) in folder 'C:\\Users\\ACER\\Desktop\\videoss': Group 4.\n"
     ]
    }
   ],
   "source": [
    "import cv2\n",
    "import os\n",
    "from collections import Counter\n",
    "\n",
    "def video_length_groups(folder_path, group_size):\n",
    "    groups = []\n",
    "    for filename in os.listdir(folder_path):\n",
    "        if filename.endswith('.mp4'):\n",
    "            video_path = os.path.join(folder_path, filename)\n",
    "            cap = cv2.VideoCapture(video_path)\n",
    "            length = int(cap.get(cv2.CAP_PROP_FRAME_COUNT))\n",
    "            group = (length - 1) // group_size  # Calculate group index\n",
    "            groups.append(group)\n",
    "            cap.release()\n",
    "    return groups\n",
    "\n",
    "def mode_video_length_group(folder_path, group_size):\n",
    "    groups = video_length_groups(folder_path, group_size)\n",
    "    mode_group = Counter(groups).most_common(1)[0][0]\n",
    "    print(Counter(groups))\n",
    "    return mode_group\n",
    "\n",
    "folder_path = r'C:\\Users\\ACER\\Desktop\\videoss'\n",
    "group_size = 10\n",
    "mode_group = mode_video_length_group(folder_path, group_size)\n",
    "print(f\"Mode of video length groups (each group contains {group_size} frames) in folder '{folder_path}': Group {mode_group}.\")\n"
   ]
  },
  {
   "cell_type": "code",
   "execution_count": null,
   "id": "80aa8713-6e19-4e62-abfc-e47c564f640a",
   "metadata": {},
   "outputs": [],
   "source": []
  }
 ],
 "metadata": {
  "kernelspec": {
   "display_name": "Python 3 (ipykernel)",
   "language": "python",
   "name": "python3"
  },
  "language_info": {
   "codemirror_mode": {
    "name": "ipython",
    "version": 3
   },
   "file_extension": ".py",
   "mimetype": "text/x-python",
   "name": "python",
   "nbconvert_exporter": "python",
   "pygments_lexer": "ipython3",
   "version": "3.9.13"
  }
 },
 "nbformat": 4,
 "nbformat_minor": 5
}
