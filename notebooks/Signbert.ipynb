{
 "cells": [
  {
   "cell_type": "code",
   "execution_count": 1,
   "id": "a1882d00-6fff-4968-bdb3-b98b3b98d4d1",
   "metadata": {},
   "outputs": [
    {
     "name": "stdout",
     "output_type": "stream",
     "text": [
      "62\n"
     ]
    }
   ],
   "source": [
    "import json\n",
    "words_list_file_path = r\"C:\\Users\\ACER\\Desktop\\wlasl\\hospital.json\"\n",
    "with open(words_list_file_path) as f:\n",
    "    words_list = json.load(f)\n",
    "print(len(words_list))"
   ]
  },
  {
   "cell_type": "code",
   "execution_count": 14,
   "id": "a9734ef8-99f5-4556-a204-f639ab7f883e",
   "metadata": {},
   "outputs": [],
   "source": [
    "import os\n",
    "import shutil\n",
    "\n",
    "source_dir = r\"C:\\Users\\User\\Desktop\\project\\hos\\test\"\n",
    "target_dir = r\"C:\\Users\\User\\Desktop\\project\\hos\"\n",
    "\n",
    "# Walk through all directories and subdirectories in the source directory\n",
    "for root, dirs, files in os.walk(source_dir):\n",
    "    for file in files:\n",
    "        if file.endswith(\".mp4\"):\n",
    "            # Construct the source file path\n",
    "            source_file_path = os.path.join(root, file)\n",
    "            \n",
    "            # Construct the target file path\n",
    "            target_file_path = os.path.join(target_dir, file)\n",
    "            \n",
    "            # Move the file to the target directory\n",
    "            shutil.move(source_file_path, target_file_path)\n",
    "source_dir = r\"C:\\Users\\User\\Desktop\\project\\hos\\val\"\n",
    "target_dir = r\"C:\\Users\\User\\Desktop\\project\\hos\"\n",
    "\n",
    "# Walk through all directories and subdirectories in the source directory\n",
    "for root, dirs, files in os.walk(source_dir):\n",
    "    for file in files:\n",
    "        if file.endswith(\".mp4\"):\n",
    "            # Construct the source file path\n",
    "            source_file_path = os.path.join(root, file)\n",
    "            \n",
    "            # Construct the target file path\n",
    "            target_file_path = os.path.join(target_dir, file)\n",
    "            \n",
    "            # Move the file to the target directory\n",
    "            shutil.move(source_file_path, target_file_path)\n",
    "source_dir = r\"C:\\Users\\User\\Desktop\\project\\hos\\train\"\n",
    "target_dir = r\"C:\\Users\\User\\Desktop\\project\\hos\"\n",
    "\n",
    "# Walk through all directories and subdirectories in the source directory\n",
    "for root, dirs, files in os.walk(source_dir):\n",
    "    for file in files:\n",
    "        if file.endswith(\".mp4\"):\n",
    "            # Construct the source file path\n",
    "            source_file_path = os.path.join(root, file)\n",
    "            \n",
    "            # Construct the target file path\n",
    "            target_file_path = os.path.join(target_dir, file)\n",
    "            \n",
    "            # Move the file to the target directory\n",
    "            shutil.move(source_file_path, target_file_path)"
   ]
  },
  {
   "cell_type": "code",
   "execution_count": 15,
   "id": "67fcf7b7-206f-4afe-97f3-337713cfeaa8",
   "metadata": {},
   "outputs": [],
   "source": [
    "import tqdm\n",
    "import random\n",
    "import pathlib\n",
    "import itertools\n",
    "import collections\n",
    "\n",
    "import os\n",
    "import cv2\n",
    "import einops\n",
    "import numpy as np\n",
    "import seaborn as sns\n",
    "import matplotlib.pyplot as plt\n",
    "\n",
    "import time\n",
    "import imageio\n",
    "from IPython import display\n",
    "from urllib import request\n",
    "\n",
    "os.environ['PYTORCH_CUDA_ALLOC_CONF'] = 'expandable_segments:True'"
   ]
  },
  {
   "cell_type": "code",
   "execution_count": 16,
   "id": "494ae12a-8902-4d17-ad59-8abfe184c976",
   "metadata": {},
   "outputs": [],
   "source": [
    "def get_class(fname):\n",
    "  \"\"\" Retrieve the name of the class given a filename.\n",
    "\n",
    "    Args:\n",
    "      fname: Name of the file in the UCF101 dataset.\n",
    "\n",
    "    Returns:\n",
    "      Class that the file belongs to.\n",
    "  \"\"\"\n",
    "  return fname.split('_')[0]\n",
    "def get_position(fname):\n",
    "  \"\"\" Retrieve the name of the class given a filename.\n",
    "\n",
    "    Args:\n",
    "      fname: Name of the file in the UCF101 dataset.\n",
    "\n",
    "    Returns:\n",
    "      Class that the file belongs to.\n",
    "  \"\"\"\n",
    "  try:\n",
    "      return fname.split('_')[1]\n",
    "  except:\n",
    "      return \"nope\"\n",
    "def get_files_per_class(files):\n",
    "    \"\"\" Retrieve the files that belong to each class.\n",
    "\n",
    "    Args:\n",
    "      files: List of files in the dataset.\n",
    "\n",
    "    Returns:\n",
    "      Dictionary of class names (key) and files (values). \n",
    "    \"\"\"\n",
    "    files_for_class = collections.defaultdict(list)\n",
    "    for fname in files:\n",
    "        class_name = get_class(fname)\n",
    "        files_for_class[class_name].append(fname)\n",
    "    return files_for_class\n",
    "def select_subset_of_classes(files_for_class, classes, files_per_class):\n",
    "  \"\"\" Create a dictionary with the class name and a subset of the files in that class.\n",
    "\n",
    "    Args:\n",
    "      files_for_class: Dictionary of class names (key) and files (values).\n",
    "      classes: List of classes.\n",
    "      files_per_class: Number of files per class of interest.\n",
    "\n",
    "    Returns:\n",
    "      Dictionary with class as key and list of specified number of video files in that class.\n",
    "  \"\"\"\n",
    "  files_subset = dict()\n",
    "\n",
    "  for class_name in classes:\n",
    "    class_files = files_for_class[class_name]\n",
    "    files_subset[class_name] = class_files[:files_per_class]\n",
    "\n",
    "  return files_subset\n",
    "def download_from_zip(source_dir, to_dir, file_names):\n",
    "    \"\"\" Download the contents of the zip file from the zip URL.\n",
    "\n",
    "    Args:\n",
    "      zip_url: A URL with a zip file containing data.\n",
    "      to_dir: A directory to download data to.\n",
    "      file_names: Names of files to download.\n",
    "    \"\"\"\n",
    "    for fn in tqdm.tqdm(file_names):\n",
    "        class_name = get_class(fn)\n",
    "        source_file = source_dir / fn\n",
    "        output_dir = to_dir / class_name\n",
    "        output_file = to_dir / class_name / fn\n",
    "        os.makedirs(output_dir, exist_ok=True)\n",
    "        source_file.rename(output_file)\n",
    "def split_class_lists(files_for_class, count):\n",
    "  \"\"\" Returns the list of files belonging to a subset of data as well as the remainder of\n",
    "    files that need to be downloaded.\n",
    "    \n",
    "    Args:\n",
    "      files_for_class: Files belonging to a particular class of data.\n",
    "      count: Number of files to download.\n",
    "\n",
    "    Returns:\n",
    "      Files belonging to the subset of data and dictionary of the remainder of files that need to be downloaded.\n",
    "  \"\"\"\n",
    "  split_files = []\n",
    "  remainder = {}\n",
    "  for cls in files_for_class:\n",
    "    split_files.extend(files_for_class[cls][:count])\n",
    "    remainder[cls] = files_for_class[cls][count:]\n",
    "  return split_files, remainder\n",
    "def download_ucf_100_subset(num_classes, splits, download_dir):\n",
    "  \"\"\" Download a subset of the UCF101 dataset and split them into various parts, such as\n",
    "    training, validation, and test.\n",
    "\n",
    "    Args:\n",
    "      zip_url: A URL with a ZIP file with the data.\n",
    "      num_classes: Number of labels.\n",
    "      splits: Dictionary specifying the training, validation, test, etc. (key) division of data \n",
    "              (value is number of files per split).\n",
    "      download_dir: Directory to download data to.\n",
    "\n",
    "    Return:\n",
    "      Mapping of the directories containing the subsections of data.\n",
    "  \"\"\"\n",
    "  files = os.listdir(r\"C:\\Users\\User\\Desktop\\project\\hos\")\n",
    "  \n",
    "  files_for_class = get_files_per_class(files)\n",
    "\n",
    "  classes = list(files_for_class.keys())[:num_classes]\n",
    "\n",
    "  for cls in classes:\n",
    "    random.shuffle(files_for_class[cls])\n",
    "    \n",
    "  # Only use the number of classes you want in the dictionary\n",
    "  files_for_class = {x: files_for_class[x] for x in classes}\n",
    "\n",
    "  dirs = {}\n",
    "  for split_name, split_count in splits.items():\n",
    "    print(split_name, \":\")\n",
    "    split_dir = download_dir / split_name\n",
    "    split_files, files_for_class = split_class_lists(files_for_class, split_count)\n",
    "    download_from_zip(download_dir, split_dir, split_files)\n",
    "    dirs[split_name] = split_dir\n",
    "\n",
    "  return dirs"
   ]
  },
  {
   "cell_type": "code",
   "execution_count": 17,
   "id": "c7367c38-ddb9-4339-9714-e1b49568edfb",
   "metadata": {},
   "outputs": [
    {
     "name": "stdout",
     "output_type": "stream",
     "text": [
      "train :\n"
     ]
    },
    {
     "name": "stderr",
     "output_type": "stream",
     "text": [
      "100%|██████████| 280/280 [00:00<00:00, 3087.18it/s]\n"
     ]
    },
    {
     "name": "stdout",
     "output_type": "stream",
     "text": [
      "val :\n"
     ]
    },
    {
     "name": "stderr",
     "output_type": "stream",
     "text": [
      "100%|██████████| 60/60 [00:00<00:00, 2736.31it/s]\n"
     ]
    },
    {
     "name": "stdout",
     "output_type": "stream",
     "text": [
      "test :\n"
     ]
    },
    {
     "name": "stderr",
     "output_type": "stream",
     "text": [
      "100%|██████████| 60/60 [00:00<00:00, 2736.37it/s]\n"
     ]
    }
   ],
   "source": [
    "NUM_CLASSES = 20\n",
    "FILES_PER_CLASS = 20\n",
    "download_dir = pathlib.Path(r'C:\\Users\\User\\Desktop\\project\\hos')\n",
    "subset_paths = download_ucf_100_subset(num_classes = NUM_CLASSES,\n",
    "                                       splits = {\"train\": 14, \"val\": 3, \"test\": 3},\n",
    "                                       download_dir = download_dir)"
   ]
  },
  {
   "cell_type": "code",
   "execution_count": 18,
   "id": "6deb5d20-8586-487c-b150-0494d86270e2",
   "metadata": {},
   "outputs": [
    {
     "name": "stdout",
     "output_type": "stream",
     "text": [
      "Total videos: 400\n"
     ]
    }
   ],
   "source": [
    "video_count_train = len(list(download_dir.glob('train/*/*.mp4')))\n",
    "video_count_val = len(list(download_dir.glob('val/*/*.mp4')))\n",
    "video_count_test = len(list(download_dir.glob('test/*/*.mp4')))\n",
    "video_total = video_count_train + video_count_val + video_count_test\n",
    "print(f\"Total videos: {video_total}\")"
   ]
  },
  {
   "cell_type": "code",
   "execution_count": 19,
   "id": "b96124c1-4e12-468c-b0b7-a8820ea06017",
   "metadata": {},
   "outputs": [],
   "source": [
    "import os\n",
    "import math\n",
    "import torch\n",
    "from torch.utils.data import Dataset, DataLoader\n",
    "from torchvision.io import read_video\n",
    "from torchvision.transforms import Compose, Lambda, Resize\n",
    "from torchvision.transforms._transforms_video import CenterCropVideo\n",
    "from torchvision.transforms.functional import pad\n",
    "import threading\n",
    "from queue import Queue"
   ]
  },
  {
   "cell_type": "code",
   "execution_count": 20,
   "id": "0e236f41-c90c-403a-ad36-1eb14ac9e615",
   "metadata": {},
   "outputs": [],
   "source": [
    "# Define the normalize function at the top level\n",
    "def normalize(x):\n",
    "    return x / 255.0\n",
    "\n",
    "class VideoDataset(Dataset):\n",
    "    def __init__(self, directory, transform=None, frames_per_clip=15, resize_dims=(224, 224)):\n",
    "        self.directory = directory\n",
    "        self.transform = transform\n",
    "        self.frames_per_clip = frames_per_clip\n",
    "        self.resize_dims = resize_dims\n",
    "        self.classes = sorted(os.listdir(directory))  # Assuming each class has its own directory\n",
    "        self.files = []\n",
    "        for class_index, _class in enumerate(self.classes):\n",
    "            class_dir = os.path.join(directory, _class)\n",
    "            self.files += [(os.path.join(class_dir, f), class_index) for f in os.listdir(class_dir)]\n",
    "\n",
    "    def __len__(self):\n",
    "        return len(self.files)\n",
    "\n",
    "    def __getitem__(self, idx):\n",
    "        try:\n",
    "            file_path, class_index = self.files[idx]\n",
    "            video, _, info = read_video(file_path, pts_unit='sec')\n",
    "            total_frames = video.shape[0]\n",
    "\n",
    "            # Adjust the frame dimension for interpolation\n",
    "            video = video.permute(0, 3, 1, 2)  # Change to [frames, channels, height, width]\n",
    "\n",
    "            # Resize frames to a uniform size\n",
    "            resized_video = torch.nn.functional.interpolate(video, size=self.resize_dims, mode='bilinear', align_corners=False)\n",
    "\n",
    "            frame_indices = torch.arange(0, total_frames, 10)\n",
    "\n",
    "            video = resized_video[frame_indices]\n",
    "\n",
    "            if video.size(0) > self.frames_per_clip:\n",
    "                # If more frames than needed, trim the video to keep only the required frames\n",
    "                video = video[:self.frames_per_clip]\n",
    "\n",
    "            elif video.size(0) < self.frames_per_clip:\n",
    "                # If fewer frames than needed, fill the end with black frames\n",
    "                num_missing_frames = self.frames_per_clip - video.size(0)\n",
    "                black_frames = torch.zeros(num_missing_frames, *video.shape[1:], dtype=video.dtype, device=video.device)\n",
    "                video = torch.cat((video, black_frames), dim=0)\n",
    "\n",
    "            video = video.permute(1, 0, 2, 3)  # Change back to [frames, height, width, channels]\n",
    "\n",
    "            if self.transform:\n",
    "                # Ensure your transform can handle batched frames correctly\n",
    "                video = self.transform(video)\n",
    "\n",
    "            return video, class_index\n",
    "        except Exception as e:\n",
    "            print(f\"Error loading data at index {idx}: {e}\")\n",
    "            return None"
   ]
  },
  {
   "cell_type": "code",
   "execution_count": 21,
   "id": "9663d7cd-3feb-41bd-84e9-cfb566a411b7",
   "metadata": {},
   "outputs": [],
   "source": [
    "transform = Compose([\n",
    "    Lambda(normalize),  # Normalize to [0,1]\n",
    "])\n",
    "\n",
    "# Initialize datasets\n",
    "train_dataset = VideoDataset(subset_paths['train'], transform=transform)\n",
    "val_dataset = VideoDataset(subset_paths['val'], transform=transform)\n",
    "test_dataset = VideoDataset(subset_paths['test'], transform=transform)\n",
    "\n",
    "# DataLoader instances\n",
    "train_loader = DataLoader(train_dataset, batch_size=2, shuffle=True, num_workers=0)\n",
    "val_loader = DataLoader(val_dataset, batch_size=2, shuffle=False, num_workers=0)\n",
    "test_loader = DataLoader(test_dataset, batch_size=2, shuffle=False, num_workers=0)\n",
    "\n",
    "# batch_size = 4  # Adjust batch size as needed\n",
    "# num_threads = 2  # Adjust number of threads as needed\n",
    "# train_loader = CustomDataLoader(train_dataset, batch_size=batch_size, num_threads=num_threads)\n",
    "# val_loader = CustomDataLoader(val_dataset, batch_size=batch_size, num_threads=num_threads)\n",
    "# test_loader = CustomDataLoader(test_dataset, batch_size=batch_size, num_threads=num_threads)"
   ]
  },
  {
   "cell_type": "code",
   "execution_count": 33,
   "id": "0dce2cad-30b3-4362-9c1a-284c40e308df",
   "metadata": {},
   "outputs": [
    {
     "data": {
      "image/png": "[encoded data removed]",
      "text/plain": [
       "<Figure size 1500x500 with 16 Axes>"
      ]
     },
     "metadata": {},
     "output_type": "display_data"
    }
   ],
   "source": [
    "import torch\n",
    "import matplotlib.pyplot as plt\n",
    "from torchvision.io import read_video\n",
    "from torch.utils.data import Dataset\n",
    "import os\n",
    "\n",
    "# Your existing dataset class and normalize function seems fine for this purpose\n",
    "\n",
    "# Function to plot a single video\n",
    "def plot_video(video_tensor):\n",
    "    \"\"\"\n",
    "    Plots frames from a video tensor.\n",
    "    Assumes video_tensor is in shape [channels, frames, height, width]\n",
    "    and the pixel values are normalized between 0 and 1.\n",
    "    \"\"\"\n",
    "    fig, axs = plt.subplots(nrows=1, ncols=video_tensor.shape[1], figsize=(15, 5))\n",
    "    for i, frame in enumerate(video_tensor.permute(1, 0, 2, 3)):  # permute frames to the front\n",
    "        axs[i].imshow(frame.permute(1, 2, 0))  # permute to [height, width, channels]\n",
    "        axs[i].axis('off')\n",
    "    plt.show()\n",
    "\n",
    "# Example of how to visualize a video from the train dataset\n",
    "def show_sample(dataset):\n",
    "    # Fetch a sample from the dataset\n",
    "    video, _ = dataset[77]  # Change 0 to another index to see different samples\n",
    "    # Assuming the video is already in the right shape and normalized\n",
    "    plot_video(video)\n",
    "\n",
    "# Assuming you have initialized train_dataset somewhere as shown previously\n",
    "show_sample(train_dataset)\n"
   ]
  },
  {
   "cell_type": "code",
   "execution_count": 22,
   "id": "98a699d4-6e49-4cd4-89a7-b724cf1dc1c5",
   "metadata": {},
   "outputs": [],
   "source": [
    "import torch\n",
    "import torch.nn as nn\n",
    "from torchvision import models\n",
    "from mobilenetv2 import MobileNetV2\n",
    "\n",
    "# Initialize the MobileNetV2 model\n",
    "# Make sure the model architecture parameters match those of the pretrained model\n",
    "model = MobileNetV2(num_classes=27)\n",
    "\n",
    "state_dict = torch.load('jester_mobilenetv2_1.0x_RGB_16_best.pth')\n",
    "\n",
    "new_state_dict = {}\n",
    "for key, value in state_dict['state_dict'].items():\n",
    "    if key.startswith('module.'):\n",
    "        new_key = key[7:]  # Remove 'module.' prefix\n",
    "        new_state_dict[new_key] = value\n",
    "    else:\n",
    "        new_state_dict[key] = value\n",
    "\n",
    "# Load the state dictionary into the model\n",
    "model.load_state_dict(new_state_dict)\n",
    "\n",
    "for param in model.parameters():\n",
    "    param.requires_grad = False\n",
    "\n",
    "model.classifier = nn.Sequential(\n",
    "    nn.Linear(1280, 2048),\n",
    "    nn.ReLU(),\n",
    "    nn.BatchNorm1d(2048),\n",
    "    nn.Dropout(0.2),\n",
    "    nn.Linear(2048, 4096),\n",
    "    nn.ReLU(),\n",
    "    nn.BatchNorm1d(4096),\n",
    "    nn.Dropout(0.2),\n",
    "    nn.Linear(4096, 8192),\n",
    "    nn.ReLU(),\n",
    "    nn.BatchNorm1d(8192),\n",
    "    nn.Dropout(0.2),\n",
    "    nn.Linear(8192, 20),\n",
    ")"
   ]
  },
  {
   "cell_type": "code",
   "execution_count": 10,
   "id": "86bb0415-6feb-489b-9082-69b2c49ebfe9",
   "metadata": {},
   "outputs": [
    {
     "name": "stdout",
     "output_type": "stream",
     "text": [
      "----------------------------------------------------------------\n",
      "        Layer (type)               Output Shape         Param #\n",
      "================================================================\n",
      "            Conv3d-1     [-1, 32, 50, 112, 112]           2,592\n",
      "       BatchNorm3d-2     [-1, 32, 50, 112, 112]              64\n",
      "             ReLU6-3     [-1, 32, 50, 112, 112]               0\n",
      "            Conv3d-4     [-1, 32, 50, 112, 112]             864\n",
      "       BatchNorm3d-5     [-1, 32, 50, 112, 112]              64\n",
      "             ReLU6-6     [-1, 32, 50, 112, 112]               0\n",
      "            Conv3d-7     [-1, 16, 50, 112, 112]             512\n",
      "       BatchNorm3d-8     [-1, 16, 50, 112, 112]              32\n",
      "  InvertedResidual-9     [-1, 16, 50, 112, 112]               0\n",
      "           Conv3d-10     [-1, 96, 50, 112, 112]           1,536\n",
      "      BatchNorm3d-11     [-1, 96, 50, 112, 112]             192\n",
      "            ReLU6-12     [-1, 96, 50, 112, 112]               0\n",
      "           Conv3d-13       [-1, 96, 25, 56, 56]           2,592\n",
      "      BatchNorm3d-14       [-1, 96, 25, 56, 56]             192\n",
      "            ReLU6-15       [-1, 96, 25, 56, 56]               0\n",
      "           Conv3d-16       [-1, 24, 25, 56, 56]           2,304\n",
      "      BatchNorm3d-17       [-1, 24, 25, 56, 56]              48\n",
      " InvertedResidual-18       [-1, 24, 25, 56, 56]               0\n",
      "           Conv3d-19      [-1, 144, 25, 56, 56]           3,456\n",
      "      BatchNorm3d-20      [-1, 144, 25, 56, 56]             288\n",
      "            ReLU6-21      [-1, 144, 25, 56, 56]               0\n",
      "           Conv3d-22      [-1, 144, 25, 56, 56]           3,888\n",
      "      BatchNorm3d-23      [-1, 144, 25, 56, 56]             288\n",
      "            ReLU6-24      [-1, 144, 25, 56, 56]               0\n",
      "           Conv3d-25       [-1, 24, 25, 56, 56]           3,456\n",
      "      BatchNorm3d-26       [-1, 24, 25, 56, 56]              48\n",
      " InvertedResidual-27       [-1, 24, 25, 56, 56]               0\n",
      "           Conv3d-28      [-1, 144, 25, 56, 56]           3,456\n",
      "      BatchNorm3d-29      [-1, 144, 25, 56, 56]             288\n",
      "            ReLU6-30      [-1, 144, 25, 56, 56]               0\n",
      "           Conv3d-31      [-1, 144, 13, 28, 28]           3,888\n",
      "      BatchNorm3d-32      [-1, 144, 13, 28, 28]             288\n",
      "            ReLU6-33      [-1, 144, 13, 28, 28]               0\n",
      "           Conv3d-34       [-1, 32, 13, 28, 28]           4,608\n",
      "      BatchNorm3d-35       [-1, 32, 13, 28, 28]              64\n",
      " InvertedResidual-36       [-1, 32, 13, 28, 28]               0\n",
      "           Conv3d-37      [-1, 192, 13, 28, 28]           6,144\n",
      "      BatchNorm3d-38      [-1, 192, 13, 28, 28]             384\n",
      "            ReLU6-39      [-1, 192, 13, 28, 28]               0\n",
      "           Conv3d-40      [-1, 192, 13, 28, 28]           5,184\n",
      "      BatchNorm3d-41      [-1, 192, 13, 28, 28]             384\n",
      "            ReLU6-42      [-1, 192, 13, 28, 28]               0\n",
      "           Conv3d-43       [-1, 32, 13, 28, 28]           6,144\n",
      "      BatchNorm3d-44       [-1, 32, 13, 28, 28]              64\n",
      " InvertedResidual-45       [-1, 32, 13, 28, 28]               0\n",
      "           Conv3d-46      [-1, 192, 13, 28, 28]           6,144\n",
      "      BatchNorm3d-47      [-1, 192, 13, 28, 28]             384\n",
      "            ReLU6-48      [-1, 192, 13, 28, 28]               0\n",
      "           Conv3d-49      [-1, 192, 13, 28, 28]           5,184\n",
      "      BatchNorm3d-50      [-1, 192, 13, 28, 28]             384\n",
      "            ReLU6-51      [-1, 192, 13, 28, 28]               0\n",
      "           Conv3d-52       [-1, 32, 13, 28, 28]           6,144\n",
      "      BatchNorm3d-53       [-1, 32, 13, 28, 28]              64\n",
      " InvertedResidual-54       [-1, 32, 13, 28, 28]               0\n",
      "           Conv3d-55      [-1, 192, 13, 28, 28]           6,144\n",
      "      BatchNorm3d-56      [-1, 192, 13, 28, 28]             384\n",
      "            ReLU6-57      [-1, 192, 13, 28, 28]               0\n",
      "           Conv3d-58       [-1, 192, 7, 14, 14]           5,184\n",
      "      BatchNorm3d-59       [-1, 192, 7, 14, 14]             384\n",
      "            ReLU6-60       [-1, 192, 7, 14, 14]               0\n",
      "           Conv3d-61        [-1, 64, 7, 14, 14]          12,288\n",
      "      BatchNorm3d-62        [-1, 64, 7, 14, 14]             128\n",
      " InvertedResidual-63        [-1, 64, 7, 14, 14]               0\n",
      "           Conv3d-64       [-1, 384, 7, 14, 14]          24,576\n",
      "      BatchNorm3d-65       [-1, 384, 7, 14, 14]             768\n",
      "            ReLU6-66       [-1, 384, 7, 14, 14]               0\n",
      "           Conv3d-67       [-1, 384, 7, 14, 14]          10,368\n",
      "      BatchNorm3d-68       [-1, 384, 7, 14, 14]             768\n",
      "            ReLU6-69       [-1, 384, 7, 14, 14]               0\n",
      "           Conv3d-70        [-1, 64, 7, 14, 14]          24,576\n",
      "      BatchNorm3d-71        [-1, 64, 7, 14, 14]             128\n",
      " InvertedResidual-72        [-1, 64, 7, 14, 14]               0\n",
      "           Conv3d-73       [-1, 384, 7, 14, 14]          24,576\n",
      "      BatchNorm3d-74       [-1, 384, 7, 14, 14]             768\n",
      "            ReLU6-75       [-1, 384, 7, 14, 14]               0\n",
      "           Conv3d-76       [-1, 384, 7, 14, 14]          10,368\n",
      "      BatchNorm3d-77       [-1, 384, 7, 14, 14]             768\n",
      "            ReLU6-78       [-1, 384, 7, 14, 14]               0\n",
      "           Conv3d-79        [-1, 64, 7, 14, 14]          24,576\n",
      "      BatchNorm3d-80        [-1, 64, 7, 14, 14]             128\n",
      " InvertedResidual-81        [-1, 64, 7, 14, 14]               0\n",
      "           Conv3d-82       [-1, 384, 7, 14, 14]          24,576\n",
      "      BatchNorm3d-83       [-1, 384, 7, 14, 14]             768\n",
      "            ReLU6-84       [-1, 384, 7, 14, 14]               0\n",
      "           Conv3d-85       [-1, 384, 7, 14, 14]          10,368\n",
      "      BatchNorm3d-86       [-1, 384, 7, 14, 14]             768\n",
      "            ReLU6-87       [-1, 384, 7, 14, 14]               0\n",
      "           Conv3d-88        [-1, 64, 7, 14, 14]          24,576\n",
      "      BatchNorm3d-89        [-1, 64, 7, 14, 14]             128\n",
      " InvertedResidual-90        [-1, 64, 7, 14, 14]               0\n",
      "           Conv3d-91       [-1, 384, 7, 14, 14]          24,576\n",
      "      BatchNorm3d-92       [-1, 384, 7, 14, 14]             768\n",
      "            ReLU6-93       [-1, 384, 7, 14, 14]               0\n",
      "           Conv3d-94       [-1, 384, 7, 14, 14]          10,368\n",
      "      BatchNorm3d-95       [-1, 384, 7, 14, 14]             768\n",
      "            ReLU6-96       [-1, 384, 7, 14, 14]               0\n",
      "           Conv3d-97        [-1, 96, 7, 14, 14]          36,864\n",
      "      BatchNorm3d-98        [-1, 96, 7, 14, 14]             192\n",
      " InvertedResidual-99        [-1, 96, 7, 14, 14]               0\n",
      "          Conv3d-100       [-1, 576, 7, 14, 14]          55,296\n",
      "     BatchNorm3d-101       [-1, 576, 7, 14, 14]           1,152\n",
      "           ReLU6-102       [-1, 576, 7, 14, 14]               0\n",
      "          Conv3d-103       [-1, 576, 7, 14, 14]          15,552\n",
      "     BatchNorm3d-104       [-1, 576, 7, 14, 14]           1,152\n",
      "           ReLU6-105       [-1, 576, 7, 14, 14]               0\n",
      "          Conv3d-106        [-1, 96, 7, 14, 14]          55,296\n",
      "     BatchNorm3d-107        [-1, 96, 7, 14, 14]             192\n",
      "InvertedResidual-108        [-1, 96, 7, 14, 14]               0\n",
      "          Conv3d-109       [-1, 576, 7, 14, 14]          55,296\n",
      "     BatchNorm3d-110       [-1, 576, 7, 14, 14]           1,152\n",
      "           ReLU6-111       [-1, 576, 7, 14, 14]               0\n",
      "          Conv3d-112       [-1, 576, 7, 14, 14]          15,552\n",
      "     BatchNorm3d-113       [-1, 576, 7, 14, 14]           1,152\n",
      "           ReLU6-114       [-1, 576, 7, 14, 14]               0\n",
      "          Conv3d-115        [-1, 96, 7, 14, 14]          55,296\n",
      "     BatchNorm3d-116        [-1, 96, 7, 14, 14]             192\n",
      "InvertedResidual-117        [-1, 96, 7, 14, 14]               0\n",
      "          Conv3d-118       [-1, 576, 7, 14, 14]          55,296\n",
      "     BatchNorm3d-119       [-1, 576, 7, 14, 14]           1,152\n",
      "           ReLU6-120       [-1, 576, 7, 14, 14]               0\n",
      "          Conv3d-121         [-1, 576, 4, 7, 7]          15,552\n",
      "     BatchNorm3d-122         [-1, 576, 4, 7, 7]           1,152\n",
      "           ReLU6-123         [-1, 576, 4, 7, 7]               0\n",
      "          Conv3d-124         [-1, 160, 4, 7, 7]          92,160\n",
      "     BatchNorm3d-125         [-1, 160, 4, 7, 7]             320\n",
      "InvertedResidual-126         [-1, 160, 4, 7, 7]               0\n",
      "          Conv3d-127         [-1, 960, 4, 7, 7]         153,600\n",
      "     BatchNorm3d-128         [-1, 960, 4, 7, 7]           1,920\n",
      "           ReLU6-129         [-1, 960, 4, 7, 7]               0\n",
      "          Conv3d-130         [-1, 960, 4, 7, 7]          25,920\n",
      "     BatchNorm3d-131         [-1, 960, 4, 7, 7]           1,920\n",
      "           ReLU6-132         [-1, 960, 4, 7, 7]               0\n",
      "          Conv3d-133         [-1, 160, 4, 7, 7]         153,600\n",
      "     BatchNorm3d-134         [-1, 160, 4, 7, 7]             320\n",
      "InvertedResidual-135         [-1, 160, 4, 7, 7]               0\n",
      "          Conv3d-136         [-1, 960, 4, 7, 7]         153,600\n",
      "     BatchNorm3d-137         [-1, 960, 4, 7, 7]           1,920\n",
      "           ReLU6-138         [-1, 960, 4, 7, 7]               0\n",
      "          Conv3d-139         [-1, 960, 4, 7, 7]          25,920\n",
      "     BatchNorm3d-140         [-1, 960, 4, 7, 7]           1,920\n",
      "           ReLU6-141         [-1, 960, 4, 7, 7]               0\n",
      "          Conv3d-142         [-1, 160, 4, 7, 7]         153,600\n",
      "     BatchNorm3d-143         [-1, 160, 4, 7, 7]             320\n",
      "InvertedResidual-144         [-1, 160, 4, 7, 7]               0\n",
      "          Conv3d-145         [-1, 960, 4, 7, 7]         153,600\n",
      "     BatchNorm3d-146         [-1, 960, 4, 7, 7]           1,920\n",
      "           ReLU6-147         [-1, 960, 4, 7, 7]               0\n",
      "          Conv3d-148         [-1, 960, 4, 7, 7]          25,920\n",
      "     BatchNorm3d-149         [-1, 960, 4, 7, 7]           1,920\n",
      "           ReLU6-150         [-1, 960, 4, 7, 7]               0\n",
      "          Conv3d-151         [-1, 320, 4, 7, 7]         307,200\n",
      "     BatchNorm3d-152         [-1, 320, 4, 7, 7]             640\n",
      "InvertedResidual-153         [-1, 320, 4, 7, 7]               0\n",
      "          Conv3d-154        [-1, 1280, 4, 7, 7]         409,600\n",
      "     BatchNorm3d-155        [-1, 1280, 4, 7, 7]           2,560\n",
      "           ReLU6-156        [-1, 1280, 4, 7, 7]               0\n",
      "          Conv3d-157        [-1, 1280, 4, 7, 7]      44,238,080\n",
      "     BatchNorm3d-158        [-1, 1280, 4, 7, 7]           2,560\n",
      "            ReLU-159        [-1, 1280, 4, 7, 7]               0\n",
      "          Conv3d-160        [-1, 1280, 4, 7, 7]      44,238,080\n",
      "     BatchNorm3d-161        [-1, 1280, 4, 7, 7]           2,560\n",
      "            ReLU-162        [-1, 1280, 4, 7, 7]               0\n",
      "       MaxPool3d-163        [-1, 1280, 2, 3, 3]               0\n",
      "         Flatten-164                [-1, 23040]               0\n",
      "          Linear-165                 [-1, 2048]      47,187,968\n",
      "            ReLU-166                 [-1, 2048]               0\n",
      "         Dropout-167                 [-1, 2048]               0\n",
      "          Linear-168                 [-1, 1024]       2,098,176\n",
      "            ReLU-169                 [-1, 1024]               0\n",
      "         Dropout-170                 [-1, 1024]               0\n",
      "          Linear-171                  [-1, 512]         524,800\n",
      "            ReLU-172                  [-1, 512]               0\n",
      "         Dropout-173                  [-1, 512]               0\n",
      "          Linear-174                  [-1, 546]         280,098\n",
      "================================================================\n",
      "Total params: 140,926,370\n",
      "Trainable params: 138,572,322\n",
      "Non-trainable params: 2,354,048\n",
      "----------------------------------------------------------------\n",
      "Input size (MB): 28.71\n",
      "Forward/backward pass size (MB): 4099.79\n",
      "Params size (MB): 537.59\n",
      "Estimated Total Size (MB): 4666.09\n",
      "----------------------------------------------------------------\n"
     ]
    }
   ],
   "source": [
    "from torchsummary import summary\n",
    "input_size = (3, 50, 224, 224)\n",
    "\n",
    "summary(model.cuda(), input_size)"
   ]
  },
  {
   "cell_type": "code",
   "execution_count": 23,
   "id": "77feb1ee-251c-4a97-bfe0-e81a58ea3ce3",
   "metadata": {},
   "outputs": [
    {
     "name": "stdout",
     "output_type": "stream",
     "text": [
      "cuda\n"
     ]
    }
   ],
   "source": [
    "device = torch.device(\"cuda\" if torch.cuda.is_available() else \"cpu\")\n",
    "# device = torch.device(\"cpu\")\n",
    "model.to(device)\n",
    "print(device)"
   ]
  },
  {
   "cell_type": "code",
   "execution_count": 24,
   "id": "51dc1a17-d0ae-4a3c-8964-36d8ad1fefb8",
   "metadata": {},
   "outputs": [
    {
     "name": "stdout",
     "output_type": "stream",
     "text": [
      "Epoch 1/2000\n",
      "training...\n"
     ]
    },
    {
     "name": "stderr",
     "output_type": "stream",
     "text": [
      "100%|██████████| 140/140 [02:42<00:00,  1.16s/it]\n"
     ]
    },
    {
     "name": "stdout",
     "output_type": "stream",
     "text": [
      "deriving training accuracy...\n"
     ]
    },
    {
     "name": "stderr",
     "output_type": "stream",
     "text": [
      "100%|██████████| 140/140 [02:50<00:00,  1.21s/it]\n"
     ]
    },
    {
     "name": "stdout",
     "output_type": "stream",
     "text": [
      "validating...\n"
     ]
    },
    {
     "name": "stderr",
     "output_type": "stream",
     "text": [
      "100%|██████████| 30/30 [00:25<00:00,  1.17it/s]\n"
     ]
    },
    {
     "name": "stdout",
     "output_type": "stream",
     "text": [
      "deriving validation accuracy...\n"
     ]
    },
    {
     "name": "stderr",
     "output_type": "stream",
     "text": [
      "100%|██████████| 30/30 [00:25<00:00,  1.17it/s]\n"
     ]
    },
    {
     "name": "stdout",
     "output_type": "stream",
     "text": [
      "epoch 1\n",
      "training_loss: 3.1862  training_accuracy: 0.082  validation_loss: 3.4182 validation_accuracy: 0.017\n",
      "\n",
      "Epoch 2/2000\n",
      "training...\n"
     ]
    },
    {
     "name": "stderr",
     "output_type": "stream",
     "text": [
      "100%|██████████| 140/140 [02:46<00:00,  1.19s/it]\n"
     ]
    },
    {
     "name": "stdout",
     "output_type": "stream",
     "text": [
      "deriving training accuracy...\n"
     ]
    },
    {
     "name": "stderr",
     "output_type": "stream",
     "text": [
      "100%|██████████| 140/140 [02:47<00:00,  1.20s/it]\n"
     ]
    },
    {
     "name": "stdout",
     "output_type": "stream",
     "text": [
      "validating...\n"
     ]
    },
    {
     "name": "stderr",
     "output_type": "stream",
     "text": [
      "100%|██████████| 30/30 [00:25<00:00,  1.19it/s]\n"
     ]
    },
    {
     "name": "stdout",
     "output_type": "stream",
     "text": [
      "deriving validation accuracy...\n"
     ]
    },
    {
     "name": "stderr",
     "output_type": "stream",
     "text": [
      "100%|██████████| 30/30 [00:25<00:00,  1.16it/s]\n"
     ]
    },
    {
     "name": "stdout",
     "output_type": "stream",
     "text": [
      "epoch 2\n",
      "training_loss: 3.0333  training_accuracy: 0.089  validation_loss: 3.2876 validation_accuracy: 0.05\n",
      "\n",
      "Epoch 3/2000\n",
      "training...\n"
     ]
    },
    {
     "name": "stderr",
     "output_type": "stream",
     "text": [
      "100%|██████████| 140/140 [02:52<00:00,  1.23s/it]\n"
     ]
    },
    {
     "name": "stdout",
     "output_type": "stream",
     "text": [
      "deriving training accuracy...\n"
     ]
    },
    {
     "name": "stderr",
     "output_type": "stream",
     "text": [
      "100%|██████████| 140/140 [02:48<00:00,  1.21s/it]\n"
     ]
    },
    {
     "name": "stdout",
     "output_type": "stream",
     "text": [
      "validating...\n"
     ]
    },
    {
     "name": "stderr",
     "output_type": "stream",
     "text": [
      "100%|██████████| 30/30 [00:24<00:00,  1.22it/s]\n"
     ]
    },
    {
     "name": "stdout",
     "output_type": "stream",
     "text": [
      "deriving validation accuracy...\n"
     ]
    },
    {
     "name": "stderr",
     "output_type": "stream",
     "text": [
      "100%|██████████| 30/30 [00:24<00:00,  1.22it/s]\n"
     ]
    },
    {
     "name": "stdout",
     "output_type": "stream",
     "text": [
      "epoch 3\n",
      "training_loss: 2.9733  training_accuracy: 0.121  validation_loss: 3.3292 validation_accuracy: 0.067\n",
      "\n",
      "Epoch 4/2000\n",
      "training...\n"
     ]
    },
    {
     "name": "stderr",
     "output_type": "stream",
     "text": [
      "100%|██████████| 140/140 [02:43<00:00,  1.17s/it]\n"
     ]
    },
    {
     "name": "stdout",
     "output_type": "stream",
     "text": [
      "deriving training accuracy...\n"
     ]
    },
    {
     "name": "stderr",
     "output_type": "stream",
     "text": [
      "100%|██████████| 140/140 [02:42<00:00,  1.16s/it]\n"
     ]
    },
    {
     "name": "stdout",
     "output_type": "stream",
     "text": [
      "validating...\n"
     ]
    },
    {
     "name": "stderr",
     "output_type": "stream",
     "text": [
      "100%|██████████| 30/30 [00:24<00:00,  1.22it/s]\n"
     ]
    },
    {
     "name": "stdout",
     "output_type": "stream",
     "text": [
      "deriving validation accuracy...\n"
     ]
    },
    {
     "name": "stderr",
     "output_type": "stream",
     "text": [
      "100%|██████████| 30/30 [00:24<00:00,  1.21it/s]\n"
     ]
    },
    {
     "name": "stdout",
     "output_type": "stream",
     "text": [
      "epoch 4\n",
      "training_loss: 2.8985  training_accuracy: 0.121  validation_loss: 3.1944 validation_accuracy: 0.05\n",
      "\n",
      "Epoch 5/2000\n",
      "training...\n"
     ]
    },
    {
     "name": "stderr",
     "output_type": "stream",
     "text": [
      "100%|██████████| 140/140 [02:44<00:00,  1.18s/it]\n"
     ]
    },
    {
     "name": "stdout",
     "output_type": "stream",
     "text": [
      "deriving training accuracy...\n"
     ]
    },
    {
     "name": "stderr",
     "output_type": "stream",
     "text": [
      "100%|██████████| 140/140 [02:44<00:00,  1.17s/it]\n"
     ]
    },
    {
     "name": "stdout",
     "output_type": "stream",
     "text": [
      "validating...\n"
     ]
    },
    {
     "name": "stderr",
     "output_type": "stream",
     "text": [
      "100%|██████████| 30/30 [00:24<00:00,  1.20it/s]\n"
     ]
    },
    {
     "name": "stdout",
     "output_type": "stream",
     "text": [
      "deriving validation accuracy...\n"
     ]
    },
    {
     "name": "stderr",
     "output_type": "stream",
     "text": [
      "100%|██████████| 30/30 [00:24<00:00,  1.25it/s]\n"
     ]
    },
    {
     "name": "stdout",
     "output_type": "stream",
     "text": [
      "epoch 5\n",
      "training_loss: 2.9476  training_accuracy: 0.157  validation_loss: 3.1159 validation_accuracy: 0.033\n",
      "\n",
      "Epoch 6/2000\n",
      "training...\n"
     ]
    },
    {
     "name": "stderr",
     "output_type": "stream",
     "text": [
      "100%|██████████| 140/140 [02:43<00:00,  1.17s/it]\n"
     ]
    },
    {
     "name": "stdout",
     "output_type": "stream",
     "text": [
      "deriving training accuracy...\n"
     ]
    },
    {
     "name": "stderr",
     "output_type": "stream",
     "text": [
      "100%|██████████| 140/140 [02:51<00:00,  1.23s/it]\n"
     ]
    },
    {
     "name": "stdout",
     "output_type": "stream",
     "text": [
      "validating...\n"
     ]
    },
    {
     "name": "stderr",
     "output_type": "stream",
     "text": [
      "100%|██████████| 30/30 [00:26<00:00,  1.13it/s]\n"
     ]
    },
    {
     "name": "stdout",
     "output_type": "stream",
     "text": [
      "deriving validation accuracy...\n"
     ]
    },
    {
     "name": "stderr",
     "output_type": "stream",
     "text": [
      "100%|██████████| 30/30 [00:25<00:00,  1.15it/s]\n"
     ]
    },
    {
     "name": "stdout",
     "output_type": "stream",
     "text": [
      "epoch 6\n",
      "training_loss: 2.843  training_accuracy: 0.171  validation_loss: 3.0471 validation_accuracy: 0.117\n",
      "\n",
      "Epoch 7/2000\n",
      "training...\n"
     ]
    },
    {
     "name": "stderr",
     "output_type": "stream",
     "text": [
      "100%|██████████| 140/140 [02:53<00:00,  1.24s/it]\n"
     ]
    },
    {
     "name": "stdout",
     "output_type": "stream",
     "text": [
      "deriving training accuracy...\n"
     ]
    },
    {
     "name": "stderr",
     "output_type": "stream",
     "text": [
      "100%|██████████| 140/140 [02:46<00:00,  1.19s/it]\n"
     ]
    },
    {
     "name": "stdout",
     "output_type": "stream",
     "text": [
      "validating...\n"
     ]
    },
    {
     "name": "stderr",
     "output_type": "stream",
     "text": [
      "100%|██████████| 30/30 [00:24<00:00,  1.21it/s]\n"
     ]
    },
    {
     "name": "stdout",
     "output_type": "stream",
     "text": [
      "deriving validation accuracy...\n"
     ]
    },
    {
     "name": "stderr",
     "output_type": "stream",
     "text": [
      "100%|██████████| 30/30 [00:26<00:00,  1.11it/s]\n"
     ]
    },
    {
     "name": "stdout",
     "output_type": "stream",
     "text": [
      "epoch 7\n",
      "training_loss: 2.8985  training_accuracy: 0.164  validation_loss: 3.0754 validation_accuracy: 0.1\n",
      "\n",
      "Epoch 8/2000\n",
      "training...\n"
     ]
    },
    {
     "name": "stderr",
     "output_type": "stream",
     "text": [
      "100%|██████████| 140/140 [02:58<00:00,  1.27s/it]\n"
     ]
    },
    {
     "name": "stdout",
     "output_type": "stream",
     "text": [
      "deriving training accuracy...\n"
     ]
    },
    {
     "name": "stderr",
     "output_type": "stream",
     "text": [
      "100%|██████████| 140/140 [03:18<00:00,  1.42s/it]\n"
     ]
    },
    {
     "name": "stdout",
     "output_type": "stream",
     "text": [
      "validating...\n"
     ]
    },
    {
     "name": "stderr",
     "output_type": "stream",
     "text": [
      "100%|██████████| 30/30 [00:29<00:00,  1.00it/s]\n"
     ]
    },
    {
     "name": "stdout",
     "output_type": "stream",
     "text": [
      "deriving validation accuracy...\n"
     ]
    },
    {
     "name": "stderr",
     "output_type": "stream",
     "text": [
      "100%|██████████| 30/30 [00:30<00:00,  1.01s/it]\n"
     ]
    },
    {
     "name": "stdout",
     "output_type": "stream",
     "text": [
      "epoch 8\n",
      "training_loss: 2.7651  training_accuracy: 0.182  validation_loss: 3.0351 validation_accuracy: 0.067\n",
      "\n",
      "Epoch 9/2000\n",
      "training...\n"
     ]
    },
    {
     "name": "stderr",
     "output_type": "stream",
     "text": [
      "100%|██████████| 140/140 [03:20<00:00,  1.44s/it]\n"
     ]
    },
    {
     "name": "stdout",
     "output_type": "stream",
     "text": [
      "deriving training accuracy...\n"
     ]
    },
    {
     "name": "stderr",
     "output_type": "stream",
     "text": [
      "100%|██████████| 140/140 [03:14<00:00,  1.39s/it]\n"
     ]
    },
    {
     "name": "stdout",
     "output_type": "stream",
     "text": [
      "validating...\n"
     ]
    },
    {
     "name": "stderr",
     "output_type": "stream",
     "text": [
      "100%|██████████| 30/30 [00:28<00:00,  1.04it/s]\n"
     ]
    },
    {
     "name": "stdout",
     "output_type": "stream",
     "text": [
      "deriving validation accuracy...\n"
     ]
    },
    {
     "name": "stderr",
     "output_type": "stream",
     "text": [
      "100%|██████████| 30/30 [00:29<00:00,  1.03it/s]\n"
     ]
    },
    {
     "name": "stdout",
     "output_type": "stream",
     "text": [
      "epoch 9\n",
      "training_loss: 2.7467  training_accuracy: 0.204  validation_loss: 3.0046 validation_accuracy: 0.117\n",
      "\n",
      "Epoch 10/2000\n",
      "training...\n"
     ]
    },
    {
     "name": "stderr",
     "output_type": "stream",
     "text": [
      "100%|██████████| 140/140 [03:15<00:00,  1.40s/it]\n"
     ]
    },
    {
     "name": "stdout",
     "output_type": "stream",
     "text": [
      "deriving training accuracy...\n"
     ]
    },
    {
     "name": "stderr",
     "output_type": "stream",
     "text": [
      "100%|██████████| 140/140 [03:14<00:00,  1.39s/it]\n"
     ]
    },
    {
     "name": "stdout",
     "output_type": "stream",
     "text": [
      "validating...\n"
     ]
    },
    {
     "name": "stderr",
     "output_type": "stream",
     "text": [
      "100%|██████████| 30/30 [00:29<00:00,  1.03it/s]\n"
     ]
    },
    {
     "name": "stdout",
     "output_type": "stream",
     "text": [
      "deriving validation accuracy...\n"
     ]
    },
    {
     "name": "stderr",
     "output_type": "stream",
     "text": [
      "100%|██████████| 30/30 [00:29<00:00,  1.02it/s]\n"
     ]
    },
    {
     "name": "stdout",
     "output_type": "stream",
     "text": [
      "epoch 10\n",
      "training_loss: 2.7613  training_accuracy: 0.182  validation_loss: 2.9763 validation_accuracy: 0.117\n",
      "\n",
      "Epoch 11/2000\n",
      "training...\n"
     ]
    },
    {
     "name": "stderr",
     "output_type": "stream",
     "text": [
      "100%|██████████| 140/140 [03:16<00:00,  1.40s/it]\n"
     ]
    },
    {
     "name": "stdout",
     "output_type": "stream",
     "text": [
      "deriving training accuracy...\n"
     ]
    },
    {
     "name": "stderr",
     "output_type": "stream",
     "text": [
      "100%|██████████| 140/140 [03:00<00:00,  1.29s/it]\n"
     ]
    },
    {
     "name": "stdout",
     "output_type": "stream",
     "text": [
      "validating...\n"
     ]
    },
    {
     "name": "stderr",
     "output_type": "stream",
     "text": [
      "100%|██████████| 30/30 [00:26<00:00,  1.14it/s]\n"
     ]
    },
    {
     "name": "stdout",
     "output_type": "stream",
     "text": [
      "deriving validation accuracy...\n"
     ]
    },
    {
     "name": "stderr",
     "output_type": "stream",
     "text": [
      "100%|██████████| 30/30 [00:24<00:00,  1.24it/s]\n"
     ]
    },
    {
     "name": "stdout",
     "output_type": "stream",
     "text": [
      "epoch 11\n",
      "training_loss: 2.7954  training_accuracy: 0.179  validation_loss: 3.1008 validation_accuracy: 0.083\n",
      "\n",
      "Epoch 12/2000\n",
      "training...\n"
     ]
    },
    {
     "name": "stderr",
     "output_type": "stream",
     "text": [
      "100%|██████████| 140/140 [02:51<00:00,  1.22s/it]\n"
     ]
    },
    {
     "name": "stdout",
     "output_type": "stream",
     "text": [
      "deriving training accuracy...\n"
     ]
    },
    {
     "name": "stderr",
     "output_type": "stream",
     "text": [
      "100%|██████████| 140/140 [02:53<00:00,  1.24s/it]\n"
     ]
    },
    {
     "name": "stdout",
     "output_type": "stream",
     "text": [
      "validating...\n"
     ]
    },
    {
     "name": "stderr",
     "output_type": "stream",
     "text": [
      "100%|██████████| 30/30 [00:26<00:00,  1.12it/s]\n"
     ]
    },
    {
     "name": "stdout",
     "output_type": "stream",
     "text": [
      "deriving validation accuracy...\n"
     ]
    },
    {
     "name": "stderr",
     "output_type": "stream",
     "text": [
      "100%|██████████| 30/30 [00:27<00:00,  1.10it/s]\n"
     ]
    },
    {
     "name": "stdout",
     "output_type": "stream",
     "text": [
      "epoch 12\n",
      "training_loss: 2.7596  training_accuracy: 0.179  validation_loss: 2.896 validation_accuracy: 0.117\n",
      "\n",
      "Epoch 13/2000\n",
      "training...\n"
     ]
    },
    {
     "name": "stderr",
     "output_type": "stream",
     "text": [
      "100%|██████████| 140/140 [03:01<00:00,  1.30s/it]\n"
     ]
    },
    {
     "name": "stdout",
     "output_type": "stream",
     "text": [
      "deriving training accuracy...\n"
     ]
    },
    {
     "name": "stderr",
     "output_type": "stream",
     "text": [
      "100%|██████████| 140/140 [03:01<00:00,  1.30s/it]\n"
     ]
    },
    {
     "name": "stdout",
     "output_type": "stream",
     "text": [
      "validating...\n"
     ]
    },
    {
     "name": "stderr",
     "output_type": "stream",
     "text": [
      "100%|██████████| 30/30 [00:27<00:00,  1.10it/s]\n"
     ]
    },
    {
     "name": "stdout",
     "output_type": "stream",
     "text": [
      "deriving validation accuracy...\n"
     ]
    },
    {
     "name": "stderr",
     "output_type": "stream",
     "text": [
      "100%|██████████| 30/30 [00:27<00:00,  1.11it/s]\n"
     ]
    },
    {
     "name": "stdout",
     "output_type": "stream",
     "text": [
      "epoch 13\n",
      "training_loss: 2.669  training_accuracy: 0.179  validation_loss: 2.9222 validation_accuracy: 0.15\n",
      "\n",
      "Epoch 14/2000\n",
      "training...\n"
     ]
    },
    {
     "name": "stderr",
     "output_type": "stream",
     "text": [
      "100%|██████████| 140/140 [03:02<00:00,  1.30s/it]\n"
     ]
    },
    {
     "name": "stdout",
     "output_type": "stream",
     "text": [
      "deriving training accuracy...\n"
     ]
    },
    {
     "name": "stderr",
     "output_type": "stream",
     "text": [
      "100%|██████████| 140/140 [03:02<00:00,  1.30s/it]\n"
     ]
    },
    {
     "name": "stdout",
     "output_type": "stream",
     "text": [
      "validating...\n"
     ]
    },
    {
     "name": "stderr",
     "output_type": "stream",
     "text": [
      "100%|██████████| 30/30 [00:26<00:00,  1.12it/s]\n"
     ]
    },
    {
     "name": "stdout",
     "output_type": "stream",
     "text": [
      "deriving validation accuracy...\n"
     ]
    },
    {
     "name": "stderr",
     "output_type": "stream",
     "text": [
      "100%|██████████| 30/30 [00:26<00:00,  1.11it/s]\n"
     ]
    },
    {
     "name": "stdout",
     "output_type": "stream",
     "text": [
      "epoch 14\n",
      "training_loss: 2.6447  training_accuracy: 0.211  validation_loss: 2.8531 validation_accuracy: 0.117\n",
      "\n",
      "Epoch 15/2000\n",
      "training...\n"
     ]
    },
    {
     "name": "stderr",
     "output_type": "stream",
     "text": [
      "100%|██████████| 140/140 [03:01<00:00,  1.30s/it]\n"
     ]
    },
    {
     "name": "stdout",
     "output_type": "stream",
     "text": [
      "deriving training accuracy...\n"
     ]
    },
    {
     "name": "stderr",
     "output_type": "stream",
     "text": [
      "100%|██████████| 140/140 [03:00<00:00,  1.29s/it]\n"
     ]
    },
    {
     "name": "stdout",
     "output_type": "stream",
     "text": [
      "validating...\n"
     ]
    },
    {
     "name": "stderr",
     "output_type": "stream",
     "text": [
      "100%|██████████| 30/30 [00:26<00:00,  1.11it/s]\n"
     ]
    },
    {
     "name": "stdout",
     "output_type": "stream",
     "text": [
      "deriving validation accuracy...\n"
     ]
    },
    {
     "name": "stderr",
     "output_type": "stream",
     "text": [
      "100%|██████████| 30/30 [00:27<00:00,  1.09it/s]\n"
     ]
    },
    {
     "name": "stdout",
     "output_type": "stream",
     "text": [
      "epoch 15\n",
      "training_loss: 2.7679  training_accuracy: 0.218  validation_loss: 2.8961 validation_accuracy: 0.133\n",
      "\n",
      "Epoch 16/2000\n",
      "training...\n"
     ]
    },
    {
     "name": "stderr",
     "output_type": "stream",
     "text": [
      "100%|██████████| 140/140 [02:54<00:00,  1.24s/it]\n"
     ]
    },
    {
     "name": "stdout",
     "output_type": "stream",
     "text": [
      "deriving training accuracy...\n"
     ]
    },
    {
     "name": "stderr",
     "output_type": "stream",
     "text": [
      "100%|██████████| 140/140 [03:00<00:00,  1.29s/it]\n"
     ]
    },
    {
     "name": "stdout",
     "output_type": "stream",
     "text": [
      "validating...\n"
     ]
    },
    {
     "name": "stderr",
     "output_type": "stream",
     "text": [
      "100%|██████████| 30/30 [00:27<00:00,  1.10it/s]\n"
     ]
    },
    {
     "name": "stdout",
     "output_type": "stream",
     "text": [
      "deriving validation accuracy...\n"
     ]
    },
    {
     "name": "stderr",
     "output_type": "stream",
     "text": [
      "100%|██████████| 30/30 [00:27<00:00,  1.10it/s]\n"
     ]
    },
    {
     "name": "stdout",
     "output_type": "stream",
     "text": [
      "epoch 16\n",
      "training_loss: 2.688  training_accuracy: 0.211  validation_loss: 2.8479 validation_accuracy: 0.15\n",
      "\n",
      "Epoch 17/2000\n",
      "training...\n"
     ]
    },
    {
     "name": "stderr",
     "output_type": "stream",
     "text": [
      "100%|██████████| 140/140 [03:02<00:00,  1.30s/it]\n"
     ]
    },
    {
     "name": "stdout",
     "output_type": "stream",
     "text": [
      "deriving training accuracy...\n"
     ]
    },
    {
     "name": "stderr",
     "output_type": "stream",
     "text": [
      "100%|██████████| 140/140 [03:00<00:00,  1.29s/it]\n"
     ]
    },
    {
     "name": "stdout",
     "output_type": "stream",
     "text": [
      "validating...\n"
     ]
    },
    {
     "name": "stderr",
     "output_type": "stream",
     "text": [
      "100%|██████████| 30/30 [00:27<00:00,  1.09it/s]\n"
     ]
    },
    {
     "name": "stdout",
     "output_type": "stream",
     "text": [
      "deriving validation accuracy...\n"
     ]
    },
    {
     "name": "stderr",
     "output_type": "stream",
     "text": [
      "100%|██████████| 30/30 [00:26<00:00,  1.12it/s]\n"
     ]
    },
    {
     "name": "stdout",
     "output_type": "stream",
     "text": [
      "epoch 17\n",
      "training_loss: 2.6651  training_accuracy: 0.225  validation_loss: 2.8344 validation_accuracy: 0.2\n",
      "\n",
      "Epoch 18/2000\n",
      "training...\n"
     ]
    },
    {
     "name": "stderr",
     "output_type": "stream",
     "text": [
      "100%|██████████| 140/140 [02:59<00:00,  1.28s/it]\n"
     ]
    },
    {
     "name": "stdout",
     "output_type": "stream",
     "text": [
      "deriving training accuracy...\n"
     ]
    },
    {
     "name": "stderr",
     "output_type": "stream",
     "text": [
      "100%|██████████| 140/140 [03:00<00:00,  1.29s/it]\n"
     ]
    },
    {
     "name": "stdout",
     "output_type": "stream",
     "text": [
      "validating...\n"
     ]
    },
    {
     "name": "stderr",
     "output_type": "stream",
     "text": [
      "100%|██████████| 30/30 [00:27<00:00,  1.10it/s]\n"
     ]
    },
    {
     "name": "stdout",
     "output_type": "stream",
     "text": [
      "deriving validation accuracy...\n"
     ]
    },
    {
     "name": "stderr",
     "output_type": "stream",
     "text": [
      "100%|██████████| 30/30 [00:29<00:00,  1.00it/s]\n"
     ]
    },
    {
     "name": "stdout",
     "output_type": "stream",
     "text": [
      "epoch 18\n",
      "training_loss: 2.7629  training_accuracy: 0.232  validation_loss: 2.7168 validation_accuracy: 0.217\n",
      "\n",
      "Epoch 19/2000\n",
      "training...\n"
     ]
    },
    {
     "name": "stderr",
     "output_type": "stream",
     "text": [
      "100%|██████████| 140/140 [02:59<00:00,  1.28s/it]\n"
     ]
    },
    {
     "name": "stdout",
     "output_type": "stream",
     "text": [
      "deriving training accuracy...\n"
     ]
    },
    {
     "name": "stderr",
     "output_type": "stream",
     "text": [
      "100%|██████████| 140/140 [03:02<00:00,  1.31s/it]\n"
     ]
    },
    {
     "name": "stdout",
     "output_type": "stream",
     "text": [
      "validating...\n"
     ]
    },
    {
     "name": "stderr",
     "output_type": "stream",
     "text": [
      "100%|██████████| 30/30 [00:26<00:00,  1.11it/s]\n"
     ]
    },
    {
     "name": "stdout",
     "output_type": "stream",
     "text": [
      "deriving validation accuracy...\n"
     ]
    },
    {
     "name": "stderr",
     "output_type": "stream",
     "text": [
      "100%|██████████| 30/30 [00:27<00:00,  1.10it/s]\n"
     ]
    },
    {
     "name": "stdout",
     "output_type": "stream",
     "text": [
      "epoch 19\n",
      "training_loss: 2.6763  training_accuracy: 0.257  validation_loss: 2.7141 validation_accuracy: 0.217\n",
      "\n",
      "Epoch 20/2000\n",
      "training...\n"
     ]
    },
    {
     "name": "stderr",
     "output_type": "stream",
     "text": [
      "100%|██████████| 140/140 [03:02<00:00,  1.30s/it]\n"
     ]
    },
    {
     "name": "stdout",
     "output_type": "stream",
     "text": [
      "deriving training accuracy...\n"
     ]
    },
    {
     "name": "stderr",
     "output_type": "stream",
     "text": [
      "100%|██████████| 140/140 [03:02<00:00,  1.31s/it]\n"
     ]
    },
    {
     "name": "stdout",
     "output_type": "stream",
     "text": [
      "validating...\n"
     ]
    },
    {
     "name": "stderr",
     "output_type": "stream",
     "text": [
      "100%|██████████| 30/30 [00:26<00:00,  1.11it/s]\n"
     ]
    },
    {
     "name": "stdout",
     "output_type": "stream",
     "text": [
      "deriving validation accuracy...\n"
     ]
    },
    {
     "name": "stderr",
     "output_type": "stream",
     "text": [
      "100%|██████████| 30/30 [00:26<00:00,  1.12it/s]\n"
     ]
    },
    {
     "name": "stdout",
     "output_type": "stream",
     "text": [
      "epoch 20\n",
      "training_loss: 2.6079  training_accuracy: 0.211  validation_loss: 2.81 validation_accuracy: 0.133\n",
      "\n",
      "Epoch 21/2000\n",
      "training...\n"
     ]
    },
    {
     "name": "stderr",
     "output_type": "stream",
     "text": [
      "100%|██████████| 140/140 [03:00<00:00,  1.29s/it]\n"
     ]
    },
    {
     "name": "stdout",
     "output_type": "stream",
     "text": [
      "deriving training accuracy...\n"
     ]
    },
    {
     "name": "stderr",
     "output_type": "stream",
     "text": [
      "100%|██████████| 140/140 [03:00<00:00,  1.29s/it]\n"
     ]
    },
    {
     "name": "stdout",
     "output_type": "stream",
     "text": [
      "validating...\n"
     ]
    },
    {
     "name": "stderr",
     "output_type": "stream",
     "text": [
      "100%|██████████| 30/30 [00:28<00:00,  1.07it/s]\n"
     ]
    },
    {
     "name": "stdout",
     "output_type": "stream",
     "text": [
      "deriving validation accuracy...\n"
     ]
    },
    {
     "name": "stderr",
     "output_type": "stream",
     "text": [
      "100%|██████████| 30/30 [00:27<00:00,  1.10it/s]\n"
     ]
    },
    {
     "name": "stdout",
     "output_type": "stream",
     "text": [
      "epoch 21\n",
      "training_loss: 2.6247  training_accuracy: 0.214  validation_loss: 2.7146 validation_accuracy: 0.133\n",
      "\n",
      "Epoch 22/2000\n",
      "training...\n"
     ]
    },
    {
     "name": "stderr",
     "output_type": "stream",
     "text": [
      "100%|██████████| 140/140 [03:00<00:00,  1.29s/it]\n"
     ]
    },
    {
     "name": "stdout",
     "output_type": "stream",
     "text": [
      "deriving training accuracy...\n"
     ]
    },
    {
     "name": "stderr",
     "output_type": "stream",
     "text": [
      "100%|██████████| 140/140 [03:00<00:00,  1.29s/it]\n"
     ]
    },
    {
     "name": "stdout",
     "output_type": "stream",
     "text": [
      "validating...\n"
     ]
    },
    {
     "name": "stderr",
     "output_type": "stream",
     "text": [
      "100%|██████████| 30/30 [00:26<00:00,  1.11it/s]\n"
     ]
    },
    {
     "name": "stdout",
     "output_type": "stream",
     "text": [
      "deriving validation accuracy...\n"
     ]
    },
    {
     "name": "stderr",
     "output_type": "stream",
     "text": [
      "100%|██████████| 30/30 [00:27<00:00,  1.10it/s]\n"
     ]
    },
    {
     "name": "stdout",
     "output_type": "stream",
     "text": [
      "epoch 22\n",
      "training_loss: 2.6286  training_accuracy: 0.282  validation_loss: 2.7018 validation_accuracy: 0.117\n",
      "\n",
      "Epoch 23/2000\n",
      "training...\n"
     ]
    },
    {
     "name": "stderr",
     "output_type": "stream",
     "text": [
      "100%|██████████| 140/140 [03:00<00:00,  1.29s/it]\n"
     ]
    },
    {
     "name": "stdout",
     "output_type": "stream",
     "text": [
      "deriving training accuracy...\n"
     ]
    },
    {
     "name": "stderr",
     "output_type": "stream",
     "text": [
      "100%|██████████| 140/140 [02:59<00:00,  1.28s/it]\n"
     ]
    },
    {
     "name": "stdout",
     "output_type": "stream",
     "text": [
      "validating...\n"
     ]
    },
    {
     "name": "stderr",
     "output_type": "stream",
     "text": [
      "100%|██████████| 30/30 [00:26<00:00,  1.13it/s]\n"
     ]
    },
    {
     "name": "stdout",
     "output_type": "stream",
     "text": [
      "deriving validation accuracy...\n"
     ]
    },
    {
     "name": "stderr",
     "output_type": "stream",
     "text": [
      "100%|██████████| 30/30 [00:26<00:00,  1.12it/s]\n"
     ]
    },
    {
     "name": "stdout",
     "output_type": "stream",
     "text": [
      "epoch 23\n",
      "training_loss: 2.5533  training_accuracy: 0.243  validation_loss: 2.7172 validation_accuracy: 0.233\n",
      "\n",
      "Epoch 24/2000\n",
      "training...\n"
     ]
    },
    {
     "name": "stderr",
     "output_type": "stream",
     "text": [
      "100%|██████████| 140/140 [02:58<00:00,  1.28s/it]\n"
     ]
    },
    {
     "name": "stdout",
     "output_type": "stream",
     "text": [
      "deriving training accuracy...\n"
     ]
    },
    {
     "name": "stderr",
     "output_type": "stream",
     "text": [
      "100%|██████████| 140/140 [03:00<00:00,  1.29s/it]\n"
     ]
    },
    {
     "name": "stdout",
     "output_type": "stream",
     "text": [
      "validating...\n"
     ]
    },
    {
     "name": "stderr",
     "output_type": "stream",
     "text": [
      "100%|██████████| 30/30 [00:26<00:00,  1.13it/s]\n"
     ]
    },
    {
     "name": "stdout",
     "output_type": "stream",
     "text": [
      "deriving validation accuracy...\n"
     ]
    },
    {
     "name": "stderr",
     "output_type": "stream",
     "text": [
      "100%|██████████| 30/30 [00:26<00:00,  1.12it/s]\n"
     ]
    },
    {
     "name": "stdout",
     "output_type": "stream",
     "text": [
      "epoch 24\n",
      "training_loss: 2.6094  training_accuracy: 0.243  validation_loss: 2.8049 validation_accuracy: 0.15\n",
      "\n",
      "Epoch 25/2000\n",
      "training...\n"
     ]
    },
    {
     "name": "stderr",
     "output_type": "stream",
     "text": [
      "100%|██████████| 140/140 [02:59<00:00,  1.28s/it]\n"
     ]
    },
    {
     "name": "stdout",
     "output_type": "stream",
     "text": [
      "deriving training accuracy...\n"
     ]
    },
    {
     "name": "stderr",
     "output_type": "stream",
     "text": [
      "100%|██████████| 140/140 [02:59<00:00,  1.28s/it]\n"
     ]
    },
    {
     "name": "stdout",
     "output_type": "stream",
     "text": [
      "validating...\n"
     ]
    },
    {
     "name": "stderr",
     "output_type": "stream",
     "text": [
      "100%|██████████| 30/30 [00:24<00:00,  1.20it/s]\n"
     ]
    },
    {
     "name": "stdout",
     "output_type": "stream",
     "text": [
      "deriving validation accuracy...\n"
     ]
    },
    {
     "name": "stderr",
     "output_type": "stream",
     "text": [
      "100%|██████████| 30/30 [00:27<00:00,  1.11it/s]\n"
     ]
    },
    {
     "name": "stdout",
     "output_type": "stream",
     "text": [
      "epoch 25\n",
      "training_loss: 2.635  training_accuracy: 0.214  validation_loss: 2.6946 validation_accuracy: 0.133\n",
      "\n",
      "Epoch 26/2000\n",
      "training...\n"
     ]
    },
    {
     "name": "stderr",
     "output_type": "stream",
     "text": [
      "100%|██████████| 140/140 [03:11<00:00,  1.37s/it]\n"
     ]
    },
    {
     "name": "stdout",
     "output_type": "stream",
     "text": [
      "deriving training accuracy...\n"
     ]
    },
    {
     "name": "stderr",
     "output_type": "stream",
     "text": [
      "100%|██████████| 140/140 [02:41<00:00,  1.16s/it]\n"
     ]
    },
    {
     "name": "stdout",
     "output_type": "stream",
     "text": [
      "validating...\n"
     ]
    },
    {
     "name": "stderr",
     "output_type": "stream",
     "text": [
      "100%|██████████| 30/30 [00:22<00:00,  1.34it/s]\n"
     ]
    },
    {
     "name": "stdout",
     "output_type": "stream",
     "text": [
      "deriving validation accuracy...\n"
     ]
    },
    {
     "name": "stderr",
     "output_type": "stream",
     "text": [
      "100%|██████████| 30/30 [00:22<00:00,  1.34it/s]\n"
     ]
    },
    {
     "name": "stdout",
     "output_type": "stream",
     "text": [
      "epoch 26\n",
      "training_loss: 2.5218  training_accuracy: 0.232  validation_loss: 2.806 validation_accuracy: 0.133\n",
      "\n",
      "Epoch 27/2000\n",
      "training...\n"
     ]
    },
    {
     "name": "stderr",
     "output_type": "stream",
     "text": [
      "100%|██████████| 140/140 [02:30<00:00,  1.08s/it]\n"
     ]
    },
    {
     "name": "stdout",
     "output_type": "stream",
     "text": [
      "deriving training accuracy...\n"
     ]
    },
    {
     "name": "stderr",
     "output_type": "stream",
     "text": [
      "100%|██████████| 140/140 [02:30<00:00,  1.08s/it]\n"
     ]
    },
    {
     "name": "stdout",
     "output_type": "stream",
     "text": [
      "validating...\n"
     ]
    },
    {
     "name": "stderr",
     "output_type": "stream",
     "text": [
      "100%|██████████| 30/30 [00:22<00:00,  1.34it/s]\n"
     ]
    },
    {
     "name": "stdout",
     "output_type": "stream",
     "text": [
      "deriving validation accuracy...\n"
     ]
    },
    {
     "name": "stderr",
     "output_type": "stream",
     "text": [
      "100%|██████████| 30/30 [00:22<00:00,  1.34it/s]\n"
     ]
    },
    {
     "name": "stdout",
     "output_type": "stream",
     "text": [
      "epoch 27\n",
      "training_loss: 2.6404  training_accuracy: 0.296  validation_loss: 2.6632 validation_accuracy: 0.233\n",
      "\n",
      "Epoch 28/2000\n",
      "training...\n"
     ]
    },
    {
     "name": "stderr",
     "output_type": "stream",
     "text": [
      "100%|██████████| 140/140 [02:30<00:00,  1.08s/it]\n"
     ]
    },
    {
     "name": "stdout",
     "output_type": "stream",
     "text": [
      "deriving training accuracy...\n"
     ]
    },
    {
     "name": "stderr",
     "output_type": "stream",
     "text": [
      "100%|██████████| 140/140 [02:34<00:00,  1.10s/it]\n"
     ]
    },
    {
     "name": "stdout",
     "output_type": "stream",
     "text": [
      "validating...\n"
     ]
    },
    {
     "name": "stderr",
     "output_type": "stream",
     "text": [
      "100%|██████████| 30/30 [00:23<00:00,  1.28it/s]\n"
     ]
    },
    {
     "name": "stdout",
     "output_type": "stream",
     "text": [
      "deriving validation accuracy...\n"
     ]
    },
    {
     "name": "stderr",
     "output_type": "stream",
     "text": [
      "100%|██████████| 30/30 [00:23<00:00,  1.28it/s]\n"
     ]
    },
    {
     "name": "stdout",
     "output_type": "stream",
     "text": [
      "epoch 28\n",
      "training_loss: 2.6138  training_accuracy: 0.264  validation_loss: 2.8293 validation_accuracy: 0.133\n",
      "\n",
      "Epoch 29/2000\n",
      "training...\n"
     ]
    },
    {
     "name": "stderr",
     "output_type": "stream",
     "text": [
      "100%|██████████| 140/140 [02:29<00:00,  1.07s/it]\n"
     ]
    },
    {
     "name": "stdout",
     "output_type": "stream",
     "text": [
      "deriving training accuracy...\n"
     ]
    },
    {
     "name": "stderr",
     "output_type": "stream",
     "text": [
      "100%|██████████| 140/140 [02:33<00:00,  1.10s/it]\n"
     ]
    },
    {
     "name": "stdout",
     "output_type": "stream",
     "text": [
      "validating...\n"
     ]
    },
    {
     "name": "stderr",
     "output_type": "stream",
     "text": [
      "100%|██████████| 30/30 [00:23<00:00,  1.28it/s]\n"
     ]
    },
    {
     "name": "stdout",
     "output_type": "stream",
     "text": [
      "deriving validation accuracy...\n"
     ]
    },
    {
     "name": "stderr",
     "output_type": "stream",
     "text": [
      "100%|██████████| 30/30 [00:23<00:00,  1.29it/s]\n"
     ]
    },
    {
     "name": "stdout",
     "output_type": "stream",
     "text": [
      "epoch 29\n",
      "training_loss: 2.5829  training_accuracy: 0.264  validation_loss: 2.8119 validation_accuracy: 0.15\n",
      "\n",
      "Epoch 30/2000\n",
      "training...\n"
     ]
    },
    {
     "name": "stderr",
     "output_type": "stream",
     "text": [
      "100%|██████████| 140/140 [02:29<00:00,  1.07s/it]\n"
     ]
    },
    {
     "name": "stdout",
     "output_type": "stream",
     "text": [
      "deriving training accuracy...\n"
     ]
    },
    {
     "name": "stderr",
     "output_type": "stream",
     "text": [
      "100%|██████████| 140/140 [02:32<00:00,  1.09s/it]\n"
     ]
    },
    {
     "name": "stdout",
     "output_type": "stream",
     "text": [
      "validating...\n"
     ]
    },
    {
     "name": "stderr",
     "output_type": "stream",
     "text": [
      "100%|██████████| 30/30 [00:23<00:00,  1.29it/s]\n"
     ]
    },
    {
     "name": "stdout",
     "output_type": "stream",
     "text": [
      "deriving validation accuracy...\n"
     ]
    },
    {
     "name": "stderr",
     "output_type": "stream",
     "text": [
      "100%|██████████| 30/30 [00:23<00:00,  1.30it/s]\n"
     ]
    },
    {
     "name": "stdout",
     "output_type": "stream",
     "text": [
      "epoch 30\n",
      "training_loss: 2.5028  training_accuracy: 0.325  validation_loss: 2.6985 validation_accuracy: 0.167\n",
      "\n",
      "Epoch 31/2000\n",
      "training...\n"
     ]
    },
    {
     "name": "stderr",
     "output_type": "stream",
     "text": [
      "100%|██████████| 140/140 [02:28<00:00,  1.06s/it]\n"
     ]
    },
    {
     "name": "stdout",
     "output_type": "stream",
     "text": [
      "deriving training accuracy...\n"
     ]
    },
    {
     "name": "stderr",
     "output_type": "stream",
     "text": [
      "100%|██████████| 140/140 [02:33<00:00,  1.10s/it]\n"
     ]
    },
    {
     "name": "stdout",
     "output_type": "stream",
     "text": [
      "validating...\n"
     ]
    },
    {
     "name": "stderr",
     "output_type": "stream",
     "text": [
      "100%|██████████| 30/30 [00:23<00:00,  1.30it/s]\n"
     ]
    },
    {
     "name": "stdout",
     "output_type": "stream",
     "text": [
      "deriving validation accuracy...\n"
     ]
    },
    {
     "name": "stderr",
     "output_type": "stream",
     "text": [
      "100%|██████████| 30/30 [00:23<00:00,  1.27it/s]\n"
     ]
    },
    {
     "name": "stdout",
     "output_type": "stream",
     "text": [
      "epoch 31\n",
      "training_loss: 2.5434  training_accuracy: 0.293  validation_loss: 2.7364 validation_accuracy: 0.183\n",
      "\n",
      "Epoch 32/2000\n",
      "training...\n"
     ]
    },
    {
     "name": "stderr",
     "output_type": "stream",
     "text": [
      "100%|██████████| 140/140 [02:28<00:00,  1.06s/it]\n"
     ]
    },
    {
     "name": "stdout",
     "output_type": "stream",
     "text": [
      "deriving training accuracy...\n"
     ]
    },
    {
     "name": "stderr",
     "output_type": "stream",
     "text": [
      "100%|██████████| 140/140 [02:33<00:00,  1.09s/it]\n"
     ]
    },
    {
     "name": "stdout",
     "output_type": "stream",
     "text": [
      "validating...\n"
     ]
    },
    {
     "name": "stderr",
     "output_type": "stream",
     "text": [
      "100%|██████████| 30/30 [00:23<00:00,  1.25it/s]\n"
     ]
    },
    {
     "name": "stdout",
     "output_type": "stream",
     "text": [
      "deriving validation accuracy...\n"
     ]
    },
    {
     "name": "stderr",
     "output_type": "stream",
     "text": [
      "100%|██████████| 30/30 [00:23<00:00,  1.29it/s]\n"
     ]
    },
    {
     "name": "stdout",
     "output_type": "stream",
     "text": [
      "epoch 32\n",
      "training_loss: 2.5398  training_accuracy: 0.254  validation_loss: 2.7371 validation_accuracy: 0.183\n",
      "\n",
      "Epoch 33/2000\n",
      "training...\n"
     ]
    },
    {
     "name": "stderr",
     "output_type": "stream",
     "text": [
      "100%|██████████| 140/140 [02:27<00:00,  1.06s/it]\n"
     ]
    },
    {
     "name": "stdout",
     "output_type": "stream",
     "text": [
      "deriving training accuracy...\n"
     ]
    },
    {
     "name": "stderr",
     "output_type": "stream",
     "text": [
      "100%|██████████| 140/140 [02:32<00:00,  1.09s/it]\n"
     ]
    },
    {
     "name": "stdout",
     "output_type": "stream",
     "text": [
      "validating...\n"
     ]
    },
    {
     "name": "stderr",
     "output_type": "stream",
     "text": [
      "100%|██████████| 30/30 [00:23<00:00,  1.28it/s]\n"
     ]
    },
    {
     "name": "stdout",
     "output_type": "stream",
     "text": [
      "deriving validation accuracy...\n"
     ]
    },
    {
     "name": "stderr",
     "output_type": "stream",
     "text": [
      "100%|██████████| 30/30 [00:23<00:00,  1.29it/s]\n"
     ]
    },
    {
     "name": "stdout",
     "output_type": "stream",
     "text": [
      "epoch 33\n",
      "training_loss: 2.6237  training_accuracy: 0.293  validation_loss: 2.7796 validation_accuracy: 0.183\n",
      "\n",
      "Epoch 34/2000\n",
      "training...\n"
     ]
    },
    {
     "name": "stderr",
     "output_type": "stream",
     "text": [
      "100%|██████████| 140/140 [02:28<00:00,  1.06s/it]\n"
     ]
    },
    {
     "name": "stdout",
     "output_type": "stream",
     "text": [
      "deriving training accuracy...\n"
     ]
    },
    {
     "name": "stderr",
     "output_type": "stream",
     "text": [
      "100%|██████████| 140/140 [02:33<00:00,  1.10s/it]\n"
     ]
    },
    {
     "name": "stdout",
     "output_type": "stream",
     "text": [
      "validating...\n"
     ]
    },
    {
     "name": "stderr",
     "output_type": "stream",
     "text": [
      "100%|██████████| 30/30 [00:23<00:00,  1.29it/s]\n"
     ]
    },
    {
     "name": "stdout",
     "output_type": "stream",
     "text": [
      "deriving validation accuracy...\n"
     ]
    },
    {
     "name": "stderr",
     "output_type": "stream",
     "text": [
      "100%|██████████| 30/30 [00:23<00:00,  1.28it/s]\n"
     ]
    },
    {
     "name": "stdout",
     "output_type": "stream",
     "text": [
      "epoch 34\n",
      "training_loss: 2.6259  training_accuracy: 0.282  validation_loss: 2.8559 validation_accuracy: 0.167\n",
      "\n",
      "Epoch 35/2000\n",
      "training...\n"
     ]
    },
    {
     "name": "stderr",
     "output_type": "stream",
     "text": [
      "100%|██████████| 140/140 [02:29<00:00,  1.07s/it]\n"
     ]
    },
    {
     "name": "stdout",
     "output_type": "stream",
     "text": [
      "deriving training accuracy...\n"
     ]
    },
    {
     "name": "stderr",
     "output_type": "stream",
     "text": [
      "100%|██████████| 140/140 [02:32<00:00,  1.09s/it]\n"
     ]
    },
    {
     "name": "stdout",
     "output_type": "stream",
     "text": [
      "validating...\n"
     ]
    },
    {
     "name": "stderr",
     "output_type": "stream",
     "text": [
      "100%|██████████| 30/30 [00:23<00:00,  1.29it/s]\n"
     ]
    },
    {
     "name": "stdout",
     "output_type": "stream",
     "text": [
      "deriving validation accuracy...\n"
     ]
    },
    {
     "name": "stderr",
     "output_type": "stream",
     "text": [
      "100%|██████████| 30/30 [00:23<00:00,  1.28it/s]\n"
     ]
    },
    {
     "name": "stdout",
     "output_type": "stream",
     "text": [
      "epoch 35\n",
      "training_loss: 2.5969  training_accuracy: 0.304  validation_loss: 2.7184 validation_accuracy: 0.233\n",
      "\n",
      "Epoch 36/2000\n",
      "training...\n"
     ]
    },
    {
     "name": "stderr",
     "output_type": "stream",
     "text": [
      "100%|██████████| 140/140 [02:28<00:00,  1.06s/it]\n"
     ]
    },
    {
     "name": "stdout",
     "output_type": "stream",
     "text": [
      "deriving training accuracy...\n"
     ]
    },
    {
     "name": "stderr",
     "output_type": "stream",
     "text": [
      "100%|██████████| 140/140 [02:33<00:00,  1.09s/it]\n"
     ]
    },
    {
     "name": "stdout",
     "output_type": "stream",
     "text": [
      "validating...\n"
     ]
    },
    {
     "name": "stderr",
     "output_type": "stream",
     "text": [
      "100%|██████████| 30/30 [00:23<00:00,  1.28it/s]\n"
     ]
    },
    {
     "name": "stdout",
     "output_type": "stream",
     "text": [
      "deriving validation accuracy...\n"
     ]
    },
    {
     "name": "stderr",
     "output_type": "stream",
     "text": [
      "100%|██████████| 30/30 [00:23<00:00,  1.26it/s]\n"
     ]
    },
    {
     "name": "stdout",
     "output_type": "stream",
     "text": [
      "epoch 36\n",
      "training_loss: 2.6328  training_accuracy: 0.293  validation_loss: 2.74 validation_accuracy: 0.183\n",
      "\n",
      "Epoch 37/2000\n",
      "training...\n"
     ]
    },
    {
     "name": "stderr",
     "output_type": "stream",
     "text": [
      "100%|██████████| 140/140 [02:28<00:00,  1.06s/it]\n"
     ]
    },
    {
     "name": "stdout",
     "output_type": "stream",
     "text": [
      "deriving training accuracy...\n"
     ]
    },
    {
     "name": "stderr",
     "output_type": "stream",
     "text": [
      "100%|██████████| 140/140 [02:32<00:00,  1.09s/it]\n"
     ]
    },
    {
     "name": "stdout",
     "output_type": "stream",
     "text": [
      "validating...\n"
     ]
    },
    {
     "name": "stderr",
     "output_type": "stream",
     "text": [
      "100%|██████████| 30/30 [00:22<00:00,  1.31it/s]\n"
     ]
    },
    {
     "name": "stdout",
     "output_type": "stream",
     "text": [
      "deriving validation accuracy...\n"
     ]
    },
    {
     "name": "stderr",
     "output_type": "stream",
     "text": [
      "100%|██████████| 30/30 [00:23<00:00,  1.29it/s]"
     ]
    },
    {
     "name": "stdout",
     "output_type": "stream",
     "text": [
      "epoch 37\n",
      "training_loss: 2.7051  training_accuracy: 0.296  validation_loss: 2.8064 validation_accuracy: 0.217\n",
      "\n",
      "Early stopping...\n"
     ]
    },
    {
     "name": "stderr",
     "output_type": "stream",
     "text": [
      "\n"
     ]
    }
   ],
   "source": [
    "from tqdm import tqdm\n",
    "import torch.optim as optim\n",
    "from torch.optim.lr_scheduler import StepLR\n",
    "\n",
    "num_epochs = 2000\n",
    "optimizer = optim.Adam(model.parameters(), lr=0.00001, weight_decay=1e-5)\n",
    "criterion = nn.CrossEntropyLoss()\n",
    "\n",
    "def accuracy(model, dataloader):\n",
    "      model.eval()\n",
    "      total_correct = 0\n",
    "      total_instances = 0\n",
    "      for frames, labels in tqdm(dataloader):\n",
    "        frames, labels = frames.to(device), labels.to(device)\n",
    "        predictions = torch.argmax(model(frames), dim=1)\n",
    "        correct_predictions = sum(predictions==labels).item()\n",
    "        total_correct+=correct_predictions\n",
    "        total_instances+=len(frames)\n",
    "      return round(total_correct/total_instances, 3)\n",
    "\n",
    "log_dict = {\n",
    "        'training_loss_per_batch': [],\n",
    "        'validation_loss_per_batch': [],\n",
    "        'training_accuracy_per_epoch': [],\n",
    "        'validation_accuracy_per_epoch': []\n",
    "    }\n",
    "\n",
    "best_val_loss = float('inf')\n",
    "patience = 10\n",
    "counter = 0\n",
    "\n",
    "for epoch in range(num_epochs):\n",
    "    print(f'Epoch {epoch+1}/{num_epochs}')\n",
    "    train_losses = []\n",
    "    \n",
    "    # Training phase\n",
    "    model.train()\n",
    "    print('training...')\n",
    "    for frames, labels in tqdm(train_loader):\n",
    "        # Move your batches to the appropriate device\n",
    "        frames, labels = frames.to(device), labels.to(device)\n",
    "        # Forward pass, backward pass, and optimize\n",
    "        optimizer.zero_grad()\n",
    "        outputs = model(frames)\n",
    "        loss = criterion(outputs, labels)\n",
    "        log_dict['training_loss_per_batch'].append(loss.item())\n",
    "        train_losses.append(loss.item())\n",
    "        loss.backward()\n",
    "        optimizer.step()\n",
    "    # Validation phase\n",
    "    with torch.no_grad():\n",
    "        print('deriving training accuracy...')\n",
    "        #  computing training accuracy\n",
    "        train_accuracy = accuracy(model, train_loader)\n",
    "        log_dict['training_accuracy_per_epoch'].append(train_accuracy)\n",
    "\n",
    "    print(\"validating...\")\n",
    "    val_losses = []\n",
    "    model.eval()\n",
    "    with torch.no_grad():\n",
    "        for frames, labels in tqdm(val_loader):\n",
    "            frames, labels = frames.to(device), labels.to(device)\n",
    "            outputs = model(frames)\n",
    "            val_loss = criterion(outputs, labels)\n",
    "            log_dict['validation_loss_per_batch'].append(val_loss.item())\n",
    "            val_losses.append(val_loss.item())\n",
    "            # Compute validation loss, accuracy, etc.\n",
    "        print('deriving validation accuracy...')\n",
    "        val_accuracy = accuracy(model, val_loader)\n",
    "        log_dict['validation_accuracy_per_epoch'].append(val_accuracy)\n",
    "\n",
    "    train_losses = np.array(train_losses).mean()\n",
    "    val_losses = np.array(val_losses).mean()\n",
    "    print(\"epoch\",epoch+1)\n",
    "\n",
    "    print(f'training_loss: {round(train_losses, 4)}  training_accuracy: '+\n",
    "          f'{train_accuracy}  validation_loss: {round(val_losses, 4)} '+  \\\n",
    "          f'validation_accuracy: {val_accuracy}\\n')\n",
    "    \n",
    "    if val_losses < best_val_loss:\n",
    "        best_val_loss = val_losses\n",
    "        counter = 0\n",
    "        # Save the best model\n",
    "        torch.save(model, r\"C:\\Users\\User\\Desktop\\project\\model\\best_modeltry.pt\")\n",
    "    else:\n",
    "        counter += 1\n",
    "        if counter >= patience:\n",
    "            print(\"Early stopping...\")\n",
    "            break"
   ]
  },
  {
   "cell_type": "code",
   "execution_count": null,
   "id": "2fd79c34-0122-4442-9adf-0b20c7fa254c",
   "metadata": {},
   "outputs": [],
   "source": []
  },
  {
   "cell_type": "code",
   "execution_count": null,
   "id": "5a77afb2-5ecd-4f4c-a1db-dec11fd5e498",
   "metadata": {},
   "outputs": [],
   "source": [
    "torch.save(model, r\"C:\\Users\\ACER\\Desktop\\python\\cnn\\save2.pt\")"
   ]
  },
  {
   "cell_type": "code",
   "execution_count": 1,
   "id": "c7fc09d7-f660-4253-8581-e129902370e6",
   "metadata": {},
   "outputs": [
    {
     "name": "stderr",
     "output_type": "stream",
     "text": [
      "C:\\Users\\ACER\\.conda\\envs\\pytorchgpu\\lib\\site-packages\\tqdm\\auto.py:21: TqdmWarning: IProgress not found. Please update jupyter and ipywidgets. See https://ipywidgets.readthedocs.io/en/stable/user_install.html\n",
      "  from .autonotebook import tqdm as notebook_tqdm\n"
     ]
    }
   ],
   "source": [
    "import os\n",
    "import cv2\n",
    "import mediapipe as mp\n",
    "import time\n",
    "import numpy as np\n",
    "import torch\n",
    "import torch.nn as nn\n",
    "from torchvision import models\n",
    "from mobilenetv2 import MobileNetV2\n",
    "import numpy as np\n",
    "import matplotlib.pyplot as plt\n",
    "from matplotlib.animation import FuncAnimation\n",
    "\n",
    "device = torch.device(\"cuda\")\n",
    "model = torch.load(r\"C:\\Users\\ACER\\Desktop\\python\\cnn\\best_model1.pt\")"
   ]
  },
  {
   "cell_type": "code",
   "execution_count": 2,
   "id": "64b8bf06-6c4d-47a0-b2dd-8ac76a3a87a4",
   "metadata": {},
   "outputs": [],
   "source": [
    "def get_keys_from_value(dictionary, value):\n",
    "    keys = [key for key, val in dictionary.items() if val == value]\n",
    "    return keys\n",
    "    \n",
    "def frames_from_video_file(video_path, n_frames, target_size=(224, 224)):\n",
    "    \"\"\"\n",
    "    Extract frames from a video file.\n",
    "\n",
    "    Args:\n",
    "        video_path (str): Path to the video file.\n",
    "        n_frames (int): Number of frames to extract.\n",
    "\n",
    "    Returns:\n",
    "        list of numpy.ndarray: List of frames extracted from the video.\n",
    "    \"\"\"\n",
    "    frames = []\n",
    "    cap = cv2.VideoCapture(str(video_path))\n",
    "    total_frames = int(cap.get(cv2.CAP_PROP_FRAME_COUNT))\n",
    "    if total_frames == 0:\n",
    "        return np.array(frames)  # Return empty list if no frames\n",
    "\n",
    "    # Calculate the indices of frames to extract\n",
    "    frame_indices = [int(i * total_frames / n_frames) for i in range(n_frames)]\n",
    "    \n",
    "    # Read frames at specified indices\n",
    "    for idx in frame_indices:\n",
    "        cap.set(cv2.CAP_PROP_POS_FRAMES, idx)\n",
    "        ret, frame = cap.read()\n",
    "        if ret:\n",
    "            frame = cv2.resize(frame, target_size)\n",
    "            frame = np.transpose(frame, (2, 0, 1))\n",
    "            frames.append(frame)\n",
    "    \n",
    "    cap.release()\n",
    "    return np.array(frames).transpose(1,0,2,3)\n",
    "\n",
    "def MainModel():\n",
    "    folder_path = r\"C:\\Users\\ACER\\Desktop\\test_dataset\\sorted\"\n",
    "    correct = 0\n",
    "    for root, dirs, files in os.walk(folder_path):\n",
    "        for filename in files:\n",
    "            if filename.endswith(\".mp4\"):\n",
    "                file_path = os.path.join(root, filename)\n",
    "                preprocessed_video = frames_from_video_file(file_path, 50)\n",
    "                preprocessed_video = torch.tensor(preprocessed_video, dtype=torch.float).to(device)\n",
    "                preprocessed_video = preprocessed_video.unsqueeze(0)\n",
    "                with torch.no_grad():\n",
    "                    predictions = model(preprocessed_video)\n",
    "                probabilities = torch.nn.functional.softmax(predictions, dim=1)\n",
    "                predicted_class = torch.argmax(probabilities, dim=1)\n",
    "                class_name = filename.split('_')[0]\n",
    "                predicted_class_name = get_keys_from_value(class_dict, predicted_class[0])\n",
    "                print(\"Class name:\", class_name)\n",
    "                print(\"Predicted class name:\", predicted_class_name)\n",
    "                if(class_name==predicted_class_name[0]):\n",
    "                    correct=correct+1\n",
    "    print(correct)"
   ]
  },
  {
   "cell_type": "code",
   "execution_count": null,
   "id": "fdbdc8ad-bb17-4b49-9999-52d4fe3e4d11",
   "metadata": {
    "scrolled": true
   },
   "outputs": [
    {
     "name": "stdout",
     "output_type": "stream",
     "text": [
      "Class name: a lot\n",
      "Predicted class name: ['a lot']\n",
      "Class name: a lot\n",
      "Predicted class name: ['and']\n",
      "Class name: abdomen\n",
      "Predicted class name: ['about']\n",
      "Class name: abdomen\n",
      "Predicted class name: ['active']\n",
      "Class name: able\n",
      "Predicted class name: ['able']\n",
      "Class name: able\n",
      "Predicted class name: ['announce']\n",
      "Class name: about\n",
      "Predicted class name: ['act']\n",
      "Class name: about\n",
      "Predicted class name: ['advantage']\n",
      "Class name: above\n",
      "Predicted class name: ['again']\n",
      "Class name: above\n",
      "Predicted class name: ['above']\n",
      "Class name: accent\n",
      "Predicted class name: ['and']\n",
      "Class name: accent\n",
      "Predicted class name: ['area']\n",
      "Class name: accept\n",
      "Predicted class name: ['afraid']\n",
      "Class name: accept\n",
      "Predicted class name: ['any']\n",
      "Class name: accident\n",
      "Predicted class name: ['aim']\n",
      "Class name: accident\n",
      "Predicted class name: ['analyze']\n",
      "Class name: accomplish\n",
      "Predicted class name: ['angel']\n",
      "Class name: accomplish\n",
      "Predicted class name: ['announce']\n",
      "Class name: accountant\n",
      "Predicted class name: ['around']\n",
      "Class name: accountant\n",
      "Predicted class name: ['alligator']\n",
      "Class name: across\n",
      "Predicted class name: ['army']\n",
      "Class name: across\n",
      "Predicted class name: ['announce']\n",
      "Class name: act\n",
      "Predicted class name: ['answer']\n",
      "Class name: act\n",
      "Predicted class name: ['admit']\n",
      "Class name: action\n",
      "Predicted class name: ['active']\n",
      "Class name: action\n",
      "Predicted class name: ['active']\n",
      "Class name: active\n",
      "Predicted class name: ['action']\n",
      "Class name: active\n",
      "Predicted class name: ['apart']\n",
      "Class name: activity\n",
      "Predicted class name: ['activity']\n",
      "Class name: activity\n",
      "Predicted class name: ['almost']\n",
      "Class name: actor\n",
      "Predicted class name: ['announce']\n",
      "Class name: actor\n",
      "Predicted class name: ['apart']\n",
      "Class name: adapt\n",
      "Predicted class name: ['a lot']\n",
      "Class name: adapt\n",
      "Predicted class name: ['appreciate']\n",
      "Class name: add\n",
      "Predicted class name: ['accountant']\n",
      "Class name: add\n",
      "Predicted class name: ['a lot']\n",
      "Class name: address\n",
      "Predicted class name: ['afraid']\n",
      "Class name: address\n",
      "Predicted class name: ['advantage']\n",
      "Class name: adjective\n",
      "Predicted class name: ['approach']\n",
      "Class name: adjective\n",
      "Predicted class name: ['approve']\n",
      "Class name: adjust\n",
      "Predicted class name: ['appropriate']\n",
      "Class name: adjust\n",
      "Predicted class name: ['artist']\n",
      "Class name: admire\n",
      "Predicted class name: ['advantage']\n",
      "Class name: admire\n",
      "Predicted class name: ['another']\n",
      "Class name: admit\n",
      "Predicted class name: ['army']\n",
      "Class name: admit\n",
      "Predicted class name: ['argue']\n",
      "Class name: adopt\n",
      "Predicted class name: ['adopt']\n",
      "Class name: adopt\n",
      "Predicted class name: ['activity']\n",
      "Class name: adult\n",
      "Predicted class name: ['accomplish']\n",
      "Class name: adult\n",
      "Predicted class name: ['ago']\n",
      "Class name: advanced\n",
      "Predicted class name: ['accomplish']\n",
      "Class name: advanced\n",
      "Predicted class name: ['accomplish']\n",
      "Class name: advantage\n",
      "Predicted class name: ['approach']\n",
      "Class name: advantage\n",
      "Predicted class name: ['activity']\n",
      "Class name: adverb\n",
      "Predicted class name: ['accountant']\n",
      "Class name: adverb\n",
      "Predicted class name: ['accomplish']\n",
      "Class name: affect\n",
      "Predicted class name: ['above']\n",
      "Class name: affect\n",
      "Predicted class name: ['article']\n",
      "Class name: afraid\n",
      "Predicted class name: ['activity']\n",
      "Class name: afraid\n",
      "Predicted class name: ['activity']\n",
      "Class name: africa\n",
      "Predicted class name: ['ago']\n",
      "Class name: africa\n",
      "Predicted class name: ['advanced']\n",
      "Class name: after\n",
      "Predicted class name: ['appreciate']\n",
      "Class name: after\n",
      "Predicted class name: ['against']\n",
      "Class name: afternoon\n",
      "Predicted class name: ['angel']\n",
      "Class name: afternoon\n",
      "Predicted class name: ['article']\n",
      "Class name: again\n",
      "Predicted class name: ['afraid']\n",
      "Class name: again\n",
      "Predicted class name: ['angry']\n",
      "Class name: against\n",
      "Predicted class name: ['agreement']\n",
      "Class name: against\n",
      "Predicted class name: ['allergy']\n",
      "Class name: age\n",
      "Predicted class name: ['army']\n",
      "Class name: age\n",
      "Predicted class name: ['accept']\n",
      "Class name: agenda\n",
      "Predicted class name: ['article']\n",
      "Class name: agenda\n",
      "Predicted class name: ['artist']\n",
      "Class name: ago\n",
      "Predicted class name: ['allergy']\n",
      "Class name: ago\n",
      "Predicted class name: ['apartment']\n",
      "Class name: agree\n",
      "Predicted class name: ['agree']\n",
      "Class name: agree\n",
      "Predicted class name: ['argue']\n",
      "Class name: agreement\n",
      "Predicted class name: ['agreement']\n",
      "Class name: agreement\n",
      "Predicted class name: ['argue']\n",
      "Class name: ahead\n",
      "Predicted class name: ['around']\n",
      "Class name: ahead\n",
      "Predicted class name: ['aid']\n",
      "Class name: aid\n",
      "Predicted class name: ['appropriate']\n",
      "Class name: aid\n",
      "Predicted class name: ['activity']\n",
      "Class name: aim\n",
      "Predicted class name: ['above']\n",
      "Class name: aim\n",
      "Predicted class name: ['accountant']\n",
      "Class name: airplane\n",
      "Predicted class name: ['arrogant']\n",
      "Class name: airplane\n",
      "Predicted class name: ['accomplish']\n",
      "Class name: alarm\n",
      "Predicted class name: ['aid']\n",
      "Class name: alarm\n",
      "Predicted class name: ['appropriate']\n",
      "Class name: alcohol\n",
      "Predicted class name: ['appointment']\n",
      "Class name: alcohol\n",
      "Predicted class name: ['action']\n",
      "Class name: algebra\n",
      "Predicted class name: ['around']\n",
      "Class name: algebra\n",
      "Predicted class name: ['appropriate']\n",
      "Class name: all\n",
      "Predicted class name: ['argue']\n",
      "Class name: all\n",
      "Predicted class name: ['aid']\n",
      "Class name: all day\n",
      "Predicted class name: ['all day']\n",
      "Class name: all day\n",
      "Predicted class name: ['all day']\n",
      "Class name: allergy\n",
      "Predicted class name: ['a lot']\n",
      "Class name: allergy\n",
      "Predicted class name: ['annoy']\n",
      "Class name: alligator\n",
      "Predicted class name: ['analyze']\n",
      "Class name: alligator\n",
      "Predicted class name: ['anatomy']\n",
      "Class name: allow\n",
      "Predicted class name: ['angry']\n",
      "Class name: allow\n",
      "Predicted class name: ['activity']\n",
      "Class name: almost\n",
      "Predicted class name: ['above']\n",
      "Class name: almost\n",
      "Predicted class name: ['accountant']\n",
      "Class name: alone\n",
      "Predicted class name: ['april']\n",
      "Class name: alone\n",
      "Predicted class name: ['america']\n",
      "Class name: alphabet\n",
      "Predicted class name: ['anniversary']\n",
      "Class name: alphabet\n",
      "Predicted class name: ['all day']\n",
      "Class name: already\n",
      "Predicted class name: ['allergy']\n",
      "Class name: already\n",
      "Predicted class name: ['allergy']\n",
      "Class name: also\n",
      "Predicted class name: ['activity']\n",
      "Class name: also\n",
      "Predicted class name: ['active']\n",
      "Class name: always\n",
      "Predicted class name: ['aid']\n",
      "Class name: always\n",
      "Predicted class name: ['against']\n",
      "Class name: amazing\n",
      "Predicted class name: ['animal']\n",
      "Class name: amazing\n",
      "Predicted class name: ['agree']\n",
      "Class name: america\n",
      "Predicted class name: ['around']\n",
      "Class name: america\n",
      "Predicted class name: ['against']\n",
      "Class name: amputate\n",
      "Predicted class name: ['affect']\n",
      "Class name: amputate\n",
      "Predicted class name: ['appetite']\n",
      "Class name: analyze\n",
      "Predicted class name: ['arrive']\n",
      "Class name: analyze\n",
      "Predicted class name: ['announce']\n",
      "Class name: anatomy\n",
      "Predicted class name: ['allow']\n",
      "Class name: anatomy\n",
      "Predicted class name: ['active']\n",
      "Class name: and\n",
      "Predicted class name: ['and']\n",
      "Class name: and\n",
      "Predicted class name: ['analyze']\n",
      "Class name: angel\n",
      "Predicted class name: ['announce']\n",
      "Class name: angel\n",
      "Predicted class name: ['angel']\n",
      "Class name: angle\n",
      "Predicted class name: ['angel']\n",
      "Class name: angle\n",
      "Predicted class name: ['appropriate']\n",
      "Class name: angry\n",
      "Predicted class name: ['afraid']\n",
      "Class name: angry\n",
      "Predicted class name: ['activity']\n",
      "Class name: animal\n",
      "Predicted class name: ['activity']\n",
      "Class name: animal\n",
      "Predicted class name: ['action']\n",
      "Class name: anniversary\n",
      "Predicted class name: ['accomplish']\n",
      "Class name: anniversary\n",
      "Predicted class name: ['angel']\n",
      "Class name: announce\n",
      "Predicted class name: ['announce']\n",
      "Class name: announce\n",
      "Predicted class name: ['allergy']\n",
      "Class name: annoy\n",
      "Predicted class name: ['agree']\n",
      "Class name: annoy\n",
      "Predicted class name: ['affect']\n",
      "Class name: another\n",
      "Predicted class name: ['angry']\n",
      "Class name: another\n",
      "Predicted class name: ['another']\n",
      "Class name: answer\n",
      "Predicted class name: ['anatomy']\n",
      "Class name: answer\n",
      "Predicted class name: ['agree']\n",
      "Class name: any\n",
      "Predicted class name: ['agreement']\n",
      "Class name: any\n",
      "Predicted class name: ['active']\n",
      "Class name: anyway\n",
      "Predicted class name: ['a lot']\n",
      "Class name: anyway\n",
      "Predicted class name: ['argue']\n",
      "Class name: apart\n",
      "Predicted class name: ['above']\n",
      "Class name: apart\n",
      "Predicted class name: ['activity']\n",
      "Class name: apartment\n",
      "Predicted class name: ['angel']\n",
      "Class name: apartment\n",
      "Predicted class name: ['any']\n",
      "Class name: apostrophe\n",
      "Predicted class name: ['apple']\n",
      "Class name: apostrophe\n",
      "Predicted class name: ['announce']\n",
      "Class name: appear\n",
      "Predicted class name: ['analyze']\n",
      "Class name: appear\n",
      "Predicted class name: ['already']\n",
      "Class name: appetite\n",
      "Predicted class name: ['admit']\n",
      "Class name: appetite\n",
      "Predicted class name: ['animal']\n",
      "Class name: apple\n",
      "Predicted class name: ['another']\n",
      "Class name: apple\n",
      "Predicted class name: ['afraid']\n",
      "Class name: appointment\n",
      "Predicted class name: ['article']\n",
      "Class name: appointment\n",
      "Predicted class name: ['around']\n",
      "Class name: appreciate\n",
      "Predicted class name: ['anatomy']\n",
      "Class name: appreciate\n",
      "Predicted class name: ['activity']\n",
      "Class name: approach\n",
      "Predicted class name: ['appointment']\n",
      "Class name: approach\n",
      "Predicted class name: ['approach']\n",
      "Class name: appropriate\n",
      "Predicted class name: ['appropriate']\n",
      "Class name: appropriate\n",
      "Predicted class name: ['area']\n",
      "Class name: approve\n",
      "Predicted class name: ['arrive']\n",
      "Class name: approve\n",
      "Predicted class name: ['anatomy']\n",
      "Class name: april\n",
      "Predicted class name: ['adverb']\n",
      "Class name: april\n",
      "Predicted class name: ['adverb']\n",
      "Class name: archery\n",
      "Predicted class name: ['article']\n",
      "Class name: archery\n",
      "Predicted class name: ['anyway']\n",
      "Class name: area\n",
      "Predicted class name: ['again']\n",
      "Class name: area\n",
      "Predicted class name: ['area']\n",
      "Class name: argue\n",
      "Predicted class name: ['appointment']\n"
     ]
    }
   ],
   "source": [
    "class_dict = {'a lot': 0, 'abdomen': 1, 'able': 2, 'about': 3, 'above': 4, 'accent': 5, 'accept': 6, 'accident': 7, 'accomplish': 8, 'accountant': 9, 'across': 10, 'act': 11, 'action': 12, 'active': 13, 'activity': 14, 'actor': 15, 'adapt': 16, 'add': 17, 'address': 18, 'adjective': 19, 'adjust': 20, 'admire': 21, 'admit': 22, 'adopt': 23, 'adult': 24, 'advanced': 25, 'advantage': 26, 'adverb': 27, 'affect': 28, 'afraid': 29, 'africa': 30, 'after': 31, 'afternoon': 32, 'again': 33, 'against': 34, 'age': 35, 'agenda': 36, 'ago': 37, 'agree': 38, 'agreement': 39, 'ahead': 40, 'aid': 41, 'aim': 42, 'airplane': 43, 'alarm': 44, 'alcohol': 45, 'algebra': 46, 'all': 47, 'all day': 48, 'allergy': 49, 'alligator': 50, 'allow': 51, 'almost': 52, 'alone': 53, 'alphabet': 54, 'already': 55, 'also': 56, 'always': 57, 'amazing': 58, 'america': 59, 'amputate': 60, 'analyze': 61, 'anatomy': 62, 'and': 63, 'angel': 64, 'angle': 65, 'angry': 66, 'animal': 67, 'anniversary': 68, 'announce': 69, 'annoy': 70, 'another': 71, 'answer': 72, 'any': 73, 'anyway': 74, 'apart': 75, 'apartment': 76, 'apostrophe': 77, 'appear': 78, 'appetite': 79, 'apple': 80, 'appointment': 81, 'appreciate': 82, 'approach': 83, 'appropriate': 84, 'approve': 85, 'april': 86, 'archery': 87, 'area': 88, 'argue': 89, 'arizona': 90, 'arm': 91, 'army': 92, 'around': 93, 'arrest': 94, 'arrive': 95, 'arrogant': 96, 'art': 97, 'article': 98, 'artist': 99}\n",
    "MainModel()"
   ]
  },
  {
   "cell_type": "code",
   "execution_count": 9,
   "id": "d404233f-7bd3-4fe1-b51e-9a94ca187d98",
   "metadata": {},
   "outputs": [],
   "source": [
    "def format_frames(frame, output_size):\n",
    "  \"\"\"\n",
    "    Pad and resize an image from a video.\n",
    "    \n",
    "    Args:\n",
    "      frame: Image that needs to resized and padded. \n",
    "      output_size: Pixel size of the output frame image.\n",
    "\n",
    "    Return:\n",
    "      Formatted frame with padding of specified output size.\n",
    "  \"\"\"\n",
    "  frame = tf.image.convert_image_dtype(frame, tf.float32)\n",
    "  frame = tf.image.resize_with_pad(frame, *output_size)\n",
    "  return frame\n",
    "def frames_from_video_file(video_path, n_frames, output_size = (224,224), frame_step = 1):\n",
    "  \"\"\"\n",
    "    Creates frames from each video file present for each category.\n",
    "\n",
    "    Args:\n",
    "      video_path: File path to the video.\n",
    "      n_frames: Number of frames to be created per video file.\n",
    "      output_size: Pixel size of the output frame image.\n",
    "\n",
    "    Return:\n",
    "      An NumPy array of frames in the shape of (n_frames, height, width, channels).\n",
    "  \"\"\"\n",
    "  # Read each video frame by frame\n",
    "  result = []\n",
    "  src = cv2.VideoCapture(str(video_path))  \n",
    "\n",
    "  video_length = src.get(cv2.CAP_PROP_FRAME_COUNT)\n",
    "\n",
    "  need_length = 1 + (n_frames - 1) * frame_step\n",
    "\n",
    "  if need_length > video_length:\n",
    "    start = 0\n",
    "  else:\n",
    "    max_start = video_length - need_length\n",
    "    start = random.randint(0, max_start + 1)\n",
    "\n",
    "  src.set(cv2.CAP_PROP_POS_FRAMES, start)\n",
    "  # ret is a boolean indicating whether read was successful, frame is the image itself\n",
    "  ret, frame = src.read()\n",
    "  result.append(format_frames(frame, output_size))\n",
    "\n",
    "  for _ in range(n_frames - 1):\n",
    "    for _ in range(frame_step):\n",
    "      ret, frame = src.read()\n",
    "    if ret:\n",
    "      frame = format_frames(frame, output_size)\n",
    "      result.append(frame)\n",
    "    else:\n",
    "      result.append(np.zeros_like(result[0]))\n",
    "  src.release()\n",
    "  result = np.array(result)[..., [2, 1, 0]]\n",
    "\n",
    "  return result\n",
    "def to_gif(images):\n",
    "  converted_images = np.clip(images * 255, 0, 255).astype(np.uint8)\n",
    "  imageio.mimsave('./animation.gif', converted_images, duration=20)\n",
    "  return embed.embed_file('./animation.gif')\n",
    "class FrameGenerator:\n",
    "  def __init__(self, path, n_frames, training = False):\n",
    "    \"\"\" Returns a set of frames with their associated label. \n",
    "\n",
    "      Args:\n",
    "        path: Video file paths.\n",
    "        n_frames: Number of frames. \n",
    "        training: Boolean to determine if training dataset is being created.\n",
    "    \"\"\"\n",
    "    self.path = path\n",
    "    self.n_frames = n_frames\n",
    "    self.training = training\n",
    "    self.class_names = sorted(set(p.name for p in self.path.iterdir() if p.is_dir()))\n",
    "    self.class_ids_for_name = dict((name, idx) for idx, name in enumerate(self.class_names))\n",
    "\n",
    "  def get_class_dictionary(self):\n",
    "    \"\"\"Returns a dictionary mapping class names to their corresponding class IDs.\"\"\"\n",
    "    return self.class_ids_for_name\n",
    "\n",
    "  def get_files_and_class_names(self):\n",
    "    video_paths = list(self.path.glob('*/*.mp4'))\n",
    "    classes = [p.parent.name for p in video_paths] \n",
    "    return video_paths, classes\n",
    "\n",
    "  def __call__(self):\n",
    "    video_paths, classes = self.get_files_and_class_names()\n",
    "\n",
    "    pairs = list(zip(video_paths, classes))\n",
    "\n",
    "    if self.training:\n",
    "      random.shuffle(pairs)\n",
    "\n",
    "    for path, name in pairs:\n",
    "      video_frames = frames_from_video_file(path, self.n_frames) \n",
    "      label = self.class_ids_for_name[name] # Encode labels\n",
    "      yield video_frames, label"
   ]
  },
  {
   "cell_type": "code",
   "execution_count": 10,
   "id": "c099ba30-f05f-4758-98da-4d5452ab3c17",
   "metadata": {},
   "outputs": [],
   "source": [
    "import torch\n",
    "from torch.utils.data import Dataset\n",
    "import random\n",
    "from pathlib import Path\n",
    "\n",
    "import cv2\n",
    "\n",
    "def frames_from_video_file(video_path, n_frames, target_size=(224, 224)):\n",
    "    \"\"\"\n",
    "    Extract frames from a video file.\n",
    "\n",
    "    Args:\n",
    "        video_path (str): Path to the video file.\n",
    "        n_frames (int): Number of frames to extract.\n",
    "\n",
    "    Returns:\n",
    "        list of numpy.ndarray: List of frames extracted from the video.\n",
    "    \"\"\"\n",
    "    frames = []\n",
    "    cap = cv2.VideoCapture(str(video_path))\n",
    "    total_frames = int(cap.get(cv2.CAP_PROP_FRAME_COUNT))\n",
    "    if total_frames == 0:\n",
    "        return np.array(frames)  # Return empty list if no frames\n",
    "\n",
    "    # Calculate the indices of frames to extract\n",
    "    frame_indices = [int(i * total_frames / n_frames) for i in range(n_frames)]\n",
    "    \n",
    "    # Read frames at specified indices\n",
    "    for idx in frame_indices:\n",
    "        cap.set(cv2.CAP_PROP_POS_FRAMES, idx)\n",
    "        ret, frame = cap.read()\n",
    "        if ret:\n",
    "            frame = cv2.resize(frame, target_size)\n",
    "            frame = np.transpose(frame, (2, 0, 1))\n",
    "            frames.append(frame)\n",
    "    \n",
    "    cap.release()\n",
    "    return np.array(frames).transpose(1,0,2,3)\n",
    "\n",
    "class FrameDataset(Dataset):\n",
    "    def __init__(self, path, n_frames, training=False):\n",
    "        \"\"\" Returns a set of frames with their associated label. \n",
    "\n",
    "        Args:\n",
    "            path: Video file paths.\n",
    "            n_frames: Number of frames. \n",
    "            training: Boolean to determine if training dataset is being created.\n",
    "        \"\"\"\n",
    "        self.path = path\n",
    "        self.n_frames = n_frames\n",
    "        self.training = training\n",
    "        self.class_names = sorted(set(p.name for p in self.path.iterdir() if p.is_dir()))\n",
    "        self.class_ids_for_name = dict((name, idx) for idx, name in enumerate(self.class_names))\n",
    "        self.video_paths, self.classes = self.get_files_and_class_names()\n",
    "\n",
    "    def __len__(self):\n",
    "        return len(self.video_paths)\n",
    "\n",
    "    def __getitem__(self, idx):\n",
    "        path = self.video_paths[idx]\n",
    "        name = self.classes[idx]\n",
    "        video_frames = frames_from_video_file(path, self.n_frames)\n",
    "        label = self.class_ids_for_name[name]  # Encode labels\n",
    "        return torch.tensor(video_frames, dtype=torch.float), torch.tensor(label)\n",
    "\n",
    "    def get_files_and_class_names(self):\n",
    "        video_paths = list(self.path.glob('*/*.mp4'))\n",
    "        classes = [p.parent.name for p in video_paths] \n",
    "        if self.training:\n",
    "            random.seed(42)  # Set seed for reproducibility\n",
    "            random.shuffle(video_paths)\n",
    "            random.seed(42)  # Reset seed for shuffling classes\n",
    "            random.shuffle(classes)\n",
    "        return video_paths, classes\n",
    "\n",
    "    def get_class_dictionary(self):\n",
    "        \"\"\"Returns a dictionary mapping class names to their corresponding class IDs.\"\"\"\n",
    "        return self.class_ids_for_name"
   ]
  },
  {
   "cell_type": "code",
   "execution_count": 11,
   "id": "9f82d6ad-c35d-4d89-bed8-74f57dd46da0",
   "metadata": {},
   "outputs": [],
   "source": [
    "from torch.utils.data import DataLoader\n",
    "# Initialize the datasets\n",
    "train_dataset = FrameDataset(subset_paths['train'], 50, training=True)\n",
    "val_dataset = FrameDataset(subset_paths['val'], 50, training=False)\n",
    "test_dataset = FrameDataset(subset_paths['test'], 50, training=False)\n",
    "\n",
    "# Create DataLoader instances\n",
    "train_loader = DataLoader(train_dataset, batch_size=4, shuffle=True)\n",
    "val_loader = DataLoader(val_dataset, batch_size=4, shuffle=False)\n",
    "test_loader = DataLoader(test_dataset, batch_size=4, shuffle=False)"
   ]
  },
  {
   "cell_type": "code",
   "execution_count": 108,
   "id": "d12b5e94-9485-41fe-ba46-4a7176bdac02",
   "metadata": {},
   "outputs": [],
   "source": [
    "def get_keys_from_value(dictionary, value):\n",
    "    keys = [key for key, val in dictionary.items() if val == value]\n",
    "    return keys\n",
    "\n",
    "def Hands(path):\n",
    "    cap = cv2.VideoCapture(path)\n",
    "    mpHands = mp.solutions.hands\n",
    "    hands = mpHands.Hands(max_num_hands=2,model_complexity=1, min_detection_confidence=0.5, min_tracking_confidence=0.5)\n",
    "    mpDraw = mp.solutions.drawing_utils\n",
    "    handLandmarksStyle = mpDraw.DrawingSpec(color=(255, 0, 0), thickness=2)\n",
    "    handConnectionStyle = mpDraw.DrawingSpec(color=(0, 255, 0), thickness=3)\n",
    "    frame_width = int(cap.get(3))\n",
    "    frame_height = int(cap.get(4))\n",
    "    \n",
    "    classes = os.path.basename(path).split('.')[0]\n",
    "    out1 = cv2.VideoWriter(classes+'.mp4',cv2.VideoWriter_fourcc('M','P','4','V'), 10, (frame_width,frame_height))\n",
    "    while True:\n",
    "        ret, img = cap.read()\n",
    "        if ret:\n",
    "            imgRGB = cv2.cvtColor(img, cv2.COLOR_BGR2RGB)\n",
    "            result = hands.process(imgRGB)\n",
    "                \n",
    "                #print(result.multi_hand_landmarks)\n",
    "            imgHeight = img.shape[0]\n",
    "            imgWidth = img.shape[1]\n",
    "                \n",
    "            frame1 = np.zeros((imgHeight, imgWidth, 3), dtype = np.uint8)\n",
    "                            \n",
    "            if result.multi_hand_landmarks:\n",
    "                for num, handLandmarks in enumerate(result.multi_hand_landmarks):\n",
    "                    mpDraw.draw_landmarks(frame1, handLandmarks, mpHands.HAND_CONNECTIONS, handLandmarksStyle, handConnectionStyle)\n",
    "                    out1.write(frame1)\n",
    "        else:\n",
    "            break\n",
    "            \n",
    "    cap.release()\n",
    "    cv2.destroyAllWindows()\n",
    "    out1.release()\n",
    "\n",
    "def preprocess_video_pytorch(video_path, target_frames=50, target_width=224, target_height=224):\n",
    "    cap = cv2.VideoCapture(str(video_path))\n",
    "    frames = []\n",
    "    frame_count = 0\n",
    "    frame_counter = 0\n",
    "    \n",
    "    while True:\n",
    "        ret, frame = cap.read()\n",
    "        if not ret or frame_count == target_frames:\n",
    "            break\n",
    "        \n",
    "        if frame_counter % 2 == 0:  # Adjust this condition based on your frame sampling rate\n",
    "            frame = cv2.resize(frame, (target_width, target_height))\n",
    "            frame = frame / 255.0  # Normalize pixel values\n",
    "            frame = frame.transpose((2, 0, 1))  # Change data layout from HWC to CHW for PyTorch\n",
    "            frames.append(frame)\n",
    "            frame_count += 1\n",
    "\n",
    "        frame_counter += 1\n",
    "\n",
    "    cap.release()\n",
    "\n",
    "    # Padding if necessary to ensure all videos have the same frame count\n",
    "    while len(frames) < target_frames:\n",
    "        frames.append(np.zeros((3, target_height, target_width)))\n",
    "    \n",
    "    # Convert frames to a PyTorch tensor and add an extra dimension for batch size\n",
    "    frames = torch.tensor(frames).unsqueeze(0).float()  # Shape: (1, target_frames, 3, target_height, target_width)\n",
    "    \n",
    "    # Rearrange dimensions to match the expected input shape of the model: (batch, channels, frames, height, width)\n",
    "    frames = frames.permute(0, 2, 1, 3, 4)\n",
    "    \n",
    "    return frames\n",
    "\n",
    "def MainModel(path):\n",
    "    # Hands(path)\n",
    "    # video_path = os.path.basename(path).split('.')[0]+\".mp4\"\n",
    "    folder_path = r\"C:\\Users\\ACER\\Desktop\\test_dataset\\sorted\"\n",
    "    correct = 0\n",
    "    # Iterate over all files in the folder\n",
    "    for root, dirs, files in os.walk(folder_path):\n",
    "        for filename in files:\n",
    "            # Check if the current file has the .mp4 extension\n",
    "            if filename.endswith(\".mp4\"):\n",
    "                # Construct the full file path\n",
    "                file_path = os.path.join(root, filename)\n",
    "                # Print the file path\n",
    "                # preprocessed_video = preprocess_video_pytorch(file_path).to(device)\n",
    "                preprocessed_video = frames_from_video_file(file_path, 50)\n",
    "                preprocessed_video = torch.tensor(preprocessed_video, dtype=torch.float).to(device)\n",
    "                preprocessed_video = preprocessed_video.unsqueeze(0)\n",
    "                with torch.no_grad():  # Disable gradient computation for inference\n",
    "                    predictions = model(preprocessed_video)\n",
    "                    # predictions will have the raw output from your model. You can then apply softmax if needed.\n",
    "                \n",
    "                # If your model's output is logits, apply softmax to get probabilities\n",
    "                probabilities = torch.nn.functional.softmax(predictions, dim=1)\n",
    "                predicted_class = torch.argmax(probabilities, dim=1)\n",
    "                # Process your predictions (e.g., take argmax for classification)\n",
    "                class_name = video_path.split('_')[0]\n",
    "                predicted_class_name = get_keys_from_value(class_dict, predicted_class[0])\n",
    "                print(\"Class name:\", filename.split('_')[0])\n",
    "                print(\"Predicted class name:\", predicted_class_name)\n",
    "                if(filename.split('_')[0]==predicted_class_name[0]):\n",
    "                    correct=correct+1\n",
    "    print(correct)"
   ]
  },
  {
   "cell_type": "code",
   "execution_count": 29,
   "id": "8b114c22-dd40-4dea-bfab-7d3cc3d7cd08",
   "metadata": {},
   "outputs": [
    {
     "ename": "NameError",
     "evalue": "name 'preprocessed_video' is not defined",
     "output_type": "error",
     "traceback": [
      "\u001b[1;31m---------------------------------------------------------------------------\u001b[0m",
      "\u001b[1;31mNameError\u001b[0m                                 Traceback (most recent call last)",
      "Cell \u001b[1;32mIn[29], line 10\u001b[0m\n\u001b[0;32m      3\u001b[0m \u001b[38;5;28;01mimport\u001b[39;00m \u001b[38;5;21;01mmatplotlib\u001b[39;00m\u001b[38;5;21;01m.\u001b[39;00m\u001b[38;5;21;01manimation\u001b[39;00m \u001b[38;5;28;01mas\u001b[39;00m \u001b[38;5;21;01manimation\u001b[39;00m\n\u001b[0;32m      5\u001b[0m \u001b[38;5;66;03m# Assuming preprocessed_video is a numpy array or similar for simplicity\u001b[39;00m\n\u001b[0;32m      6\u001b[0m \u001b[38;5;66;03m# Let's pretend it has a shape like (1, 10, 3, 100, 100), meaning:\u001b[39;00m\n\u001b[0;32m      7\u001b[0m \u001b[38;5;66;03m# 1 video, 10 frames, 3 color channels, 100x100 pixels\u001b[39;00m\n\u001b[0;32m      8\u001b[0m \n\u001b[0;32m      9\u001b[0m \u001b[38;5;66;03m# Simplify our example by removing the batch dimension if present\u001b[39;00m\n\u001b[1;32m---> 10\u001b[0m video \u001b[38;5;241m=\u001b[39m \u001b[43mpreprocessed_video\u001b[49m\u001b[38;5;241m.\u001b[39msqueeze(\u001b[38;5;241m0\u001b[39m)\n\u001b[0;32m     12\u001b[0m \u001b[38;5;66;03m# Function to update the plot for each frame\u001b[39;00m\n\u001b[0;32m     13\u001b[0m \u001b[38;5;28;01mdef\u001b[39;00m \u001b[38;5;21mupdate_plot\u001b[39m(frame_number, video, plot):\n",
      "\u001b[1;31mNameError\u001b[0m: name 'preprocessed_video' is not defined"
     ]
    }
   ],
   "source": [
    "import numpy as np\n",
    "import matplotlib.pyplot as plt\n",
    "import matplotlib.animation as animation\n",
    "\n",
    "# Assuming preprocessed_video is a numpy array or similar for simplicity\n",
    "# Let's pretend it has a shape like (1, 10, 3, 100, 100), meaning:\n",
    "# 1 video, 10 frames, 3 color channels, 100x100 pixels\n",
    "\n",
    "# Simplify our example by removing the batch dimension if present\n",
    "video = preprocessed_video.squeeze(0)\n",
    "\n",
    "# Function to update the plot for each frame\n",
    "def update_plot(frame_number, video, plot):\n",
    "    plot.set_data(video[frame_number])\n",
    "\n",
    "# Create a figure for plotting\n",
    "fig, ax = plt.subplots()\n",
    "\n",
    "# Create an imshow object with the first frame of the video\n",
    "plot = plt.imshow(video[0], interpolation='nearest')\n",
    "\n",
    "# Create an animation\n",
    "ani = animation.FuncAnimation(fig, update_plot, frames=range(video.shape[0]), fargs=(video, plot))\n",
    "\n",
    "plt.show()"
   ]
  },
  {
   "cell_type": "code",
   "execution_count": 8,
   "id": "7a148293-40e7-4f48-a030-a01c81d4b667",
   "metadata": {},
   "outputs": [],
   "source": [
    "def MainModelyay(path):\n",
    "    print(path)\n",
    "    video_path = os.path.basename(path).split('.')[0]\n",
    "    preprocessed_video = preprocess_video_pytorch(path)\n",
    "    model.eval()\n",
    "    with torch.no_grad():  # Disable gradient computation for inference\n",
    "        predictions = model(preprocessed_video)\n",
    "        # predictions will have the raw output from your model. You can then apply softmax if needed.\n",
    "    \n",
    "    # If your model's output is logits, apply softmax to get probabilities\n",
    "    probabilities = torch.nn.functional.softmax(predictions, dim=1)\n",
    "    print(probab\n",
    "    predicted_class = torch.argmax(probabilities, dim=1)\n",
    "    # Process your predictions (e.g., take argmax for classification)\n",
    "    class_name = video_path.split('_')[0]\n",
    "    print(\"Class name:\", class_name)\n",
    "    print(\"Predicted class name:\", predicted_class)"
   ]
  },
  {
   "cell_type": "code",
   "execution_count": 9,
   "id": "202f1677-1152-4e49-850a-2574147b9b40",
   "metadata": {},
   "outputs": [
    {
     "name": "stdout",
     "output_type": "stream",
     "text": [
      "C:\\Users\\ACER\\Desktop\\test_dataset\\sorted\\a lot\\a lot_1.mp4\n",
      "Class name: a lot\n",
      "Predicted class name: tensor([21])\n",
      "C:\\Users\\ACER\\Desktop\\test_dataset\\sorted\\a lot\\a lot_5.mp4\n",
      "Class name: a lot\n",
      "Predicted class name: tensor([21])\n",
      "C:\\Users\\ACER\\Desktop\\test_dataset\\sorted\\abdomen\\abdomen_4.mp4\n",
      "Class name: abdomen\n",
      "Predicted class name: tensor([21])\n",
      "C:\\Users\\ACER\\Desktop\\test_dataset\\sorted\\abdomen\\abdomen_5.mp4\n",
      "Class name: abdomen\n",
      "Predicted class name: tensor([21])\n",
      "C:\\Users\\ACER\\Desktop\\test_dataset\\sorted\\able\\able_1.mp4\n"
     ]
    },
    {
     "ename": "KeyboardInterrupt",
     "evalue": "",
     "output_type": "error",
     "traceback": [
      "\u001b[1;31m---------------------------------------------------------------------------\u001b[0m",
      "\u001b[1;31mKeyboardInterrupt\u001b[0m                         Traceback (most recent call last)",
      "Cell \u001b[1;32mIn[9], line 14\u001b[0m\n\u001b[0;32m     12\u001b[0m video_files \u001b[38;5;241m=\u001b[39m get_video_files_recursive(path)\n\u001b[0;32m     13\u001b[0m \u001b[38;5;28;01mfor\u001b[39;00m i \u001b[38;5;129;01min\u001b[39;00m \u001b[38;5;28mrange\u001b[39m(\u001b[38;5;28mlen\u001b[39m(video_files)):\n\u001b[1;32m---> 14\u001b[0m     \u001b[43mMainModelyay\u001b[49m\u001b[43m(\u001b[49m\u001b[43mvideo_files\u001b[49m\u001b[43m[\u001b[49m\u001b[43mi\u001b[49m\u001b[43m]\u001b[49m\u001b[43m)\u001b[49m\n",
      "Cell \u001b[1;32mIn[8], line 4\u001b[0m, in \u001b[0;36mMainModelyay\u001b[1;34m(path)\u001b[0m\n\u001b[0;32m      2\u001b[0m \u001b[38;5;28mprint\u001b[39m(path)\n\u001b[0;32m      3\u001b[0m video_path \u001b[38;5;241m=\u001b[39m os\u001b[38;5;241m.\u001b[39mpath\u001b[38;5;241m.\u001b[39mbasename(path)\u001b[38;5;241m.\u001b[39msplit(\u001b[38;5;124m'\u001b[39m\u001b[38;5;124m.\u001b[39m\u001b[38;5;124m'\u001b[39m)[\u001b[38;5;241m0\u001b[39m]\n\u001b[1;32m----> 4\u001b[0m preprocessed_video \u001b[38;5;241m=\u001b[39m \u001b[43mpreprocess_video_pytorch\u001b[49m\u001b[43m(\u001b[49m\u001b[43mpath\u001b[49m\u001b[43m)\u001b[49m\n\u001b[0;32m      5\u001b[0m model\u001b[38;5;241m.\u001b[39meval()\n\u001b[0;32m      6\u001b[0m \u001b[38;5;28;01mwith\u001b[39;00m torch\u001b[38;5;241m.\u001b[39mno_grad():  \u001b[38;5;66;03m# Disable gradient computation for inference\u001b[39;00m\n",
      "Cell \u001b[1;32mIn[4], line 67\u001b[0m, in \u001b[0;36mpreprocess_video_pytorch\u001b[1;34m(video_path, target_frames, target_width, target_height)\u001b[0m\n\u001b[0;32m     64\u001b[0m     frames\u001b[38;5;241m.\u001b[39mappend(np\u001b[38;5;241m.\u001b[39mzeros((\u001b[38;5;241m3\u001b[39m, target_height, target_width)))\n\u001b[0;32m     66\u001b[0m \u001b[38;5;66;03m# Convert frames to a PyTorch tensor and add an extra dimension for batch size\u001b[39;00m\n\u001b[1;32m---> 67\u001b[0m frames \u001b[38;5;241m=\u001b[39m \u001b[43mtorch\u001b[49m\u001b[38;5;241;43m.\u001b[39;49m\u001b[43mtensor\u001b[49m\u001b[43m(\u001b[49m\u001b[43mframes\u001b[49m\u001b[43m)\u001b[49m\u001b[38;5;241m.\u001b[39munsqueeze(\u001b[38;5;241m0\u001b[39m)\u001b[38;5;241m.\u001b[39mfloat()  \u001b[38;5;66;03m# Shape: (1, target_frames, 3, target_height, target_width)\u001b[39;00m\n\u001b[0;32m     69\u001b[0m \u001b[38;5;66;03m# Rearrange dimensions to match the expected input shape of the model: (batch, channels, frames, height, width)\u001b[39;00m\n\u001b[0;32m     70\u001b[0m frames \u001b[38;5;241m=\u001b[39m frames\u001b[38;5;241m.\u001b[39mpermute(\u001b[38;5;241m0\u001b[39m, \u001b[38;5;241m2\u001b[39m, \u001b[38;5;241m1\u001b[39m, \u001b[38;5;241m3\u001b[39m, \u001b[38;5;241m4\u001b[39m)\n",
      "\u001b[1;31mKeyboardInterrupt\u001b[0m: "
     ]
    }
   ],
   "source": [
    "class_dict = {'a lot': 0, 'abdomen': 1, 'able': 2, 'about': 3, 'above': 4, 'accent': 5, 'accept': 6, 'accident': 7, 'accomplish': 8, 'accountant': 9, 'across': 10, 'act': 11, 'action': 12, 'active': 13, 'activity': 14, 'actor': 15, 'adapt': 16, 'add': 17, 'address': 18, 'adjective': 19, 'adjust': 20, 'admire': 21, 'admit': 22, 'adopt': 23, 'adult': 24, 'advanced': 25, 'advantage': 26, 'adverb': 27, 'affect': 28, 'afraid': 29, 'africa': 30, 'after': 31, 'afternoon': 32, 'again': 33, 'against': 34, 'age': 35, 'agenda': 36, 'ago': 37, 'agree': 38, 'agreement': 39, 'ahead': 40, 'aid': 41, 'aim': 42, 'airplane': 43, 'alarm': 44, 'alcohol': 45, 'algebra': 46, 'all': 47, 'all day': 48, 'allergy': 49, 'alligator': 50, 'allow': 51, 'almost': 52, 'alone': 53, 'alphabet': 54, 'already': 55, 'also': 56, 'always': 57, 'amazing': 58, 'america': 59, 'amputate': 60, 'analyze': 61, 'anatomy': 62, 'and': 63, 'angel': 64, 'angle': 65, 'angry': 66, 'animal': 67, 'anniversary': 68, 'announce': 69, 'annoy': 70, 'another': 71, 'answer': 72, 'any': 73, 'anyway': 74, 'apart': 75, 'apartment': 76, 'apostrophe': 77, 'appear': 78, 'appetite': 79, 'apple': 80, 'appointment': 81, 'appreciate': 82, 'approach': 83, 'appropriate': 84, 'approve': 85, 'april': 86, 'archery': 87, 'area': 88, 'argue': 89, 'arizona': 90, 'arm': 91, 'army': 92, 'around': 93, 'arrest': 94, 'arrive': 95, 'arrogant': 96, 'art': 97, 'article': 98, 'artist': 99}\n",
    "path = r\"C:\\Users\\ACER\\Desktop\\test_dataset\\sorted\"\n",
    "def get_video_files_recursive(folder_path):\n",
    "    video_files = []\n",
    "    for root, dirs, files in os.walk(folder_path):\n",
    "        for file in files:\n",
    "            if file.endswith(\".mp4\"):\n",
    "                video_files.append(os.path.join(root, file))\n",
    "    return video_files\n",
    "\n",
    "# Example usage\n",
    "video_files = get_video_files_recursive(path)\n",
    "for i in range(len(video_files)):\n",
    "    MainModelyay(video_files[i])"
   ]
  },
  {
   "cell_type": "code",
   "execution_count": null,
   "id": "a1688783-5a89-4d44-b1eb-4aaab9092196",
   "metadata": {},
   "outputs": [],
   "source": []
  }
 ],
 "metadata": {
  "kernelspec": {
   "display_name": "Python 3 (ipykernel)",
   "language": "python",
   "name": "python3"
  },
  "language_info": {
   "codemirror_mode": {
    "name": "ipython",
    "version": 3
   },
   "file_extension": ".py",
   "mimetype": "text/x-python",
   "name": "python",
   "nbconvert_exporter": "python",
   "pygments_lexer": "ipython3",
   "version": "3.9.19"
  }
 },
 "nbformat": 4,
 "nbformat_minor": 5
}
